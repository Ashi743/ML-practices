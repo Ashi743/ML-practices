{
  "nbformat": 4,
  "nbformat_minor": 0,
  "metadata": {
    "colab": {
      "provenance": [],
      "authorship_tag": "ABX9TyNnGMwgxxfMbiAymAeQDlmF",
      "include_colab_link": true
    },
    "kernelspec": {
      "name": "python3",
      "display_name": "Python 3"
    },
    "language_info": {
      "name": "python"
    }
  },
  "cells": [
    {
      "cell_type": "markdown",
      "metadata": {
        "id": "view-in-github",
        "colab_type": "text"
      },
      "source": [
        "<a href=\"https://colab.research.google.com/github/Ashi743/ML-practices/blob/main/robbing_.ipynb\" target=\"_parent\"><img src=\"https://colab.research.google.com/assets/colab-badge.svg\" alt=\"Open In Colab\"/></a>"
      ]
    },
    {
      "cell_type": "code",
      "execution_count": 29,
      "metadata": {
        "colab": {
          "base_uri": "https://localhost:8080/"
        },
        "id": "B9h0rHx8FDLX",
        "outputId": "9c668060-b5f8-4d22-cf9d-4301099d0b56"
      },
      "outputs": [
        {
          "output_type": "stream",
          "name": "stdout",
          "text": [
            "10\n"
          ]
        }
      ],
      "source": [
        "list1=[1,2,2,5,2,1,1,1,1,1]\n",
        "def rob(list):\n",
        "    if  len(list)==0 :\n",
        "      return 0\n",
        "\n",
        "    elif len(list)==1:\n",
        "      return list[0]\n",
        "\n",
        "    case1=list[0]+rob(list[2:])\n",
        "    case2=list[1]+rob(list[3:])\n",
        "    return max(case1,case2)\n",
        "\n",
        "print(rob(list1))\n",
        "\n"
      ]
    },
    {
      "cell_type": "code",
      "source": [
        "list1=[1,2,2,5,2,1,1,1,1,1]\n",
        "def rob(list):\n",
        "    if  len(list)==0 :\n",
        "      return 0\n",
        "\n",
        "    elif len(list)==1:\n",
        "      return list[0]\n",
        "    else:\n",
        "      case1=list[0]+rob(list[2:])\n",
        "\n",
        "      case2=list[1]+rob(list[3:])\n",
        "\n",
        "\n",
        "      return max(case1,case2)\n",
        "print(list1)\n",
        "print(rob(list1))\n",
        ""
      ],
      "metadata": {
        "colab": {
          "base_uri": "https://localhost:8080/"
        },
        "id": "E9a915nBOykJ",
        "outputId": "f3de5b4d-25e8-4fc7-f796-4ca51f153751"
      },
      "execution_count": 39,
      "outputs": [
        {
          "output_type": "stream",
          "name": "stdout",
          "text": [
            "[1, 2, 2, 5, 2, 1, 1, 1, 1, 1]\n",
            "10\n"
          ]
        }
      ]
    },
    {
      "cell_type": "code",
      "source": [
        "# Define a dictionary with tuple keys\n",
        "d = {\n",
        "    (1, 2): 10,\n",
        "    (2, 3): 20,\n",
        "    (3, 4): 30\n",
        "}\n",
        "\n",
        "# Define a key\n",
        "nums = (2, 3)\n",
        "\n",
        "# Check if the key is in the dictionary and return the associated value\n",
        "if nums in d:\n",
        "    print(d[nums])  # Output: 20\n",
        "    return_value = d[nums]\n",
        "\n",
        "print(return_value)  # Output: 20\n"
      ],
      "metadata": {
        "colab": {
          "base_uri": "https://localhost:8080/"
        },
        "id": "DiqM8EsWhdPe",
        "outputId": "fd089575-0e8b-4456-9cef-521c1d9f71f0"
      },
      "execution_count": 74,
      "outputs": [
        {
          "output_type": "stream",
          "name": "stdout",
          "text": [
            "20\n",
            "20\n"
          ]
        }
      ]
    },
    {
      "cell_type": "code",
      "source": [
        "def rob(nums: list[int]) -> int:\n",
        "\n",
        "    def f(\n",
        "        nums: tuple[int],\n",
        "        d: dict[tuple[int], int]\n",
        "    ) -> int:\n",
        "        \"\"\"\n",
        "        nums: a tuple containing available houses to rob rn empty\n",
        "        d: a dict storing computed function calls so we don't recompute  rn empty\n",
        "        \"\"\"\n",
        "        # base cases\n",
        "        if len(nums) == 0: return 0\n",
        "        if len(nums) == 1: return nums[0]\n",
        "\n",
        "        # if this recursive call has been computed before\n",
        "        # use that computed value instead of recomputing\n",
        "        if nums in d:\n",
        "          return d[nums]\n",
        "\n",
        "        # compute value, and add to d before returning\n",
        "        case1 = nums[0] + f(nums[2:], d=d)\n",
        "        case2 = nums[1] + f(nums[3:], d=d)\n",
        "\n",
        "        '''The nums in case1 and case2 within the rob function are calling the helper function f,\n",
        "        which is defined inside rob.\n",
        "        The rob function itself does not directly call rob again. Instead, it uses the\n",
        "        helper function f to handle the recursive calls.'''\n",
        "\n",
        "        ans = max(case1, case2)\n",
        "        d[nums] = ans\n",
        "        return ans\n",
        "\n",
        "    d = {}\n",
        "\n",
        "    nums = tuple(nums)\n",
        "    return f(nums, d)\n",
        "list1=[1, 5,5, 2, 5, 2, 2,2]\n",
        "rob(list1)\n"
      ],
      "metadata": {
        "colab": {
          "base_uri": "https://localhost:8080/"
        },
        "id": "OUFfCniwSCdk",
        "outputId": "70044245-6452-4f2e-81d5-38aa18d50759"
      },
      "execution_count": 76,
      "outputs": [
        {
          "output_type": "execute_result",
          "data": {
            "text/plain": [
              "13"
            ]
          },
          "metadata": {},
          "execution_count": 76
        }
      ]
    },
    {
      "cell_type": "code",
      "source": [
        "def robbed(nums: list[int]) -> int:\n",
        "  def help( nums: tuple[int],  dict1: dict[tuple[int], int]) -> int:\n",
        "    if len(nums) == 0: return 0\n",
        "    if len(nums) == 1: return nums[0]\n",
        "\n",
        "    if nums in d: return d[nums]\n",
        "\n",
        "    case1 = nums[0] + help(nums[2:], d)\n",
        "    case2 = nums[1] + help(nums[3:], d)\n",
        "    d[nums] = max(case1, case2)\n",
        "    return d[nums]\n",
        "\n",
        "  d = {}\n",
        "  return help(tuple(nums), d)\n",
        "\n",
        "list1= [1,1,1,2,3]\n",
        "robbed(list1)\n"
      ],
      "metadata": {
        "colab": {
          "base_uri": "https://localhost:8080/"
        },
        "id": "sgVDaX-BsihF",
        "outputId": "45727085-c5d1-420b-ebe5-cb405c1b7b64"
      },
      "execution_count": 85,
      "outputs": [
        {
          "output_type": "execute_result",
          "data": {
            "text/plain": [
              "5"
            ]
          },
          "metadata": {},
          "execution_count": 85
        }
      ]
    },
    {
      "cell_type": "code",
      "source": [
        "def rob(nums: list[int]) -> int:\n",
        "# making a helper function\n",
        "    def f(\n",
        "        nums: tuple[int],\n",
        "        d: dict[tuple[int], int]\n",
        "    ) -> int:\n",
        "        \"\"\"\n",
        "        nums: a tuple containing available houses to rob rn empty\n",
        "        d: a dict storing computed function calls so we don't recompute  rn empty\n",
        "        \"\"\"\n",
        "\n",
        "        # base cases\n",
        "        if len(nums) == 0: return 0\n",
        "        if len(nums) == 1: return nums[0]\n",
        "\n",
        "        # if this recursive call has been computed before\n",
        "        # use that computed value instead of recomputing\n",
        "        if nums in d:\n",
        "            print(f\"Using cached value for {nums}: {d[nums]}\")\n",
        "            return d[nums]\n",
        "\n",
        "        # compute value, and add to d before returning\n",
        "        case1 = nums[0] + f(nums[2:], d=d)\n",
        "        case2 = nums[1] + f(nums[3:], d=d)\n",
        "        print(f\"case1: {case1}, case2: {case2} for nums: {nums}\")\n",
        "\n",
        "        ans = max(case1, case2)\n",
        "\n",
        "        d[nums] = ans\n",
        "        print(f\"Updated cache: {d}\")\n",
        "        print()\n",
        "        return ans\n",
        "\n",
        "\n",
        "    d = {}\n",
        "\n",
        "    nums = tuple(nums)\n",
        "    return f(nums, d)\n",
        "\n",
        "# Example usage\n",
        "list1 = [1, 5, 5, 2, 5, 2, 2, 2]\n",
        "print(f\"Maximum amount robbed: {rob(list1)}\")\n"
      ],
      "metadata": {
        "colab": {
          "base_uri": "https://localhost:8080/"
        },
        "id": "LmcVymPWr-a_",
        "outputId": "f83911f3-c346-49b0-e349-7f1ba8d58b19"
      },
      "execution_count": 87,
      "outputs": [
        {
          "output_type": "stream",
          "name": "stdout",
          "text": [
            "case1: 2, case2: 2 for nums: (2, 2)\n",
            "Updated cache: {(2, 2): 2}\n",
            "\n",
            "case1: 7, case2: 4 for nums: (5, 2, 2, 2)\n",
            "Updated cache: {(2, 2): 2, (5, 2, 2, 2): 7}\n",
            "\n",
            "case1: 4, case2: 2 for nums: (2, 2, 2)\n",
            "Updated cache: {(2, 2): 2, (5, 2, 2, 2): 7, (2, 2, 2): 4}\n",
            "\n",
            "case1: 12, case2: 6 for nums: (5, 2, 5, 2, 2, 2)\n",
            "Updated cache: {(2, 2): 2, (5, 2, 2, 2): 7, (2, 2, 2): 4, (5, 2, 5, 2, 2, 2): 12}\n",
            "\n",
            "Using cached value for (2, 2, 2): 4\n",
            "Using cached value for (2, 2): 2\n",
            "case1: 6, case2: 7 for nums: (2, 5, 2, 2, 2)\n",
            "Updated cache: {(2, 2): 2, (5, 2, 2, 2): 7, (2, 2, 2): 4, (5, 2, 5, 2, 2, 2): 12, (2, 5, 2, 2, 2): 7}\n",
            "\n",
            "case1: 13, case2: 12 for nums: (1, 5, 5, 2, 5, 2, 2, 2)\n",
            "Updated cache: {(2, 2): 2, (5, 2, 2, 2): 7, (2, 2, 2): 4, (5, 2, 5, 2, 2, 2): 12, (2, 5, 2, 2, 2): 7, (1, 5, 5, 2, 5, 2, 2, 2): 13}\n",
            "\n",
            "Maximum amount robbed: 13\n"
          ]
        }
      ]
    },
    {
      "cell_type": "code",
      "source": [
        "g= {(1,2): 1, (2,3):2}\n",
        "print(g)\n",
        "h= dict( [  ((1,2), 1) , ((2,3),2) ] )\n",
        "print(h)\n",
        "i= dict( apple=\"pie\", orange=\"juice\" )\n",
        "print(i)\n",
        "print(h.values)\n",
        "print(h.items())\n",
        "print(h.keys)\n"
      ],
      "metadata": {
        "colab": {
          "base_uri": "https://localhost:8080/"
        },
        "id": "dlgEqqsKnrh9",
        "outputId": "ed5792ce-f906-45d9-dbff-71de5041c96c"
      },
      "execution_count": 77,
      "outputs": [
        {
          "output_type": "stream",
          "name": "stdout",
          "text": [
            "{(1, 2): 1, (2, 3): 2}\n",
            "{(1, 2): 1, (2, 3): 2}\n",
            "{'apple': 'pie', 'orange': 'juice'}\n",
            "<built-in method values of dict object at 0x795cb30223c0>\n",
            "dict_items([((1, 2), 1), ((2, 3), 2)])\n",
            "<built-in method keys of dict object at 0x795cb30223c0>\n"
          ]
        }
      ]
    },
    {
      "cell_type": "code",
      "source": [
        "def greet(name: str, greeting: str = \"Hello\") -> str:\n",
        "    return f\"{greeting}, {name}!\"\n",
        "\n",
        "# Non-default argument must be provided\n",
        "print(greet(\"Alice\"))        # Output: Hello, Alice!\n",
        "\n",
        "# Both arguments provided\n",
        "print(greet(\"Bob\", \"Hi\"))    # Output: Hi, Bob!\n",
        "\n",
        "# Only the non-default argument provided, default argument used\n",
        "print(greet(\"Charlie\"))      # Output: Hello, Charlie!\n"
      ],
      "metadata": {
        "colab": {
          "base_uri": "https://localhost:8080/"
        },
        "id": "_YRzDCbfkoQI",
        "outputId": "745c2ece-e26a-4771-d401-dca8b04c919f"
      },
      "execution_count": 32,
      "outputs": [
        {
          "output_type": "stream",
          "name": "stdout",
          "text": [
            "Hello, Alice!\n",
            "Hi, Bob!\n",
            "Hello, Charlie!\n"
          ]
        }
      ]
    },
    {
      "cell_type": "code",
      "source": [
        "list1 = [1, 2, 3, 4, 5]\n",
        "nums: tuple[int] = tuple(list1)\n",
        "\n",
        "# Creating a dictionary where each element of the tuple is a key with the same value\n",
        "d: dict[int, int] = {num: num for num in nums}\n",
        "\n",
        "print(nums)\n",
        "print(d)"
      ],
      "metadata": {
        "colab": {
          "base_uri": "https://localhost:8080/"
        },
        "id": "sNA-TrzsZn36",
        "outputId": "876fc120-8963-4aaa-b4f1-6161eaa924fa"
      },
      "execution_count": 7,
      "outputs": [
        {
          "output_type": "stream",
          "name": "stdout",
          "text": [
            "(1, 2, 3, 4, 5)\n",
            "{1: 1, 2: 2, 3: 3, 4: 4, 5: 5}\n"
          ]
        }
      ]
    },
    {
      "cell_type": "code",
      "source": [
        "def robbi(nums: list[int]) -> int:\n",
        "    # Implementation of the function that expects nums to be a list of integers\n",
        "    # to coder\n",
        "    print(nums)\n",
        "\n",
        "\n",
        "\n",
        "def robbiv(any_list):\n",
        "    # Implementation of the function that doesn't specify the type of the parameter\n",
        "    return sum(any_list)\n",
        "\n",
        "num1 = [1, 2, 3, 4]\n",
        "\n",
        "# Using the function with type hints\n",
        "result = robbi(num1)\n",
        "print(result)  # Output: 10\n",
        "print(type(result))\n",
        "\n",
        "# Using the function without type hints\n",
        "result_no_hints = robbiv(num1)\n",
        "print(result_no_hints)  # Output: 10\n",
        "print(type(result_no_hints))\n"
      ],
      "metadata": {
        "colab": {
          "base_uri": "https://localhost:8080/"
        },
        "id": "AVvtBEipOGAu",
        "outputId": "cb3a3275-eddf-41b7-a1fb-a349dc74f286"
      },
      "execution_count": 45,
      "outputs": [
        {
          "output_type": "stream",
          "name": "stdout",
          "text": [
            "[1, 2, 3, 4]\n",
            "None\n",
            "<class 'NoneType'>\n",
            "10\n",
            "<class 'int'>\n"
          ]
        }
      ]
    },
    {
      "cell_type": "code",
      "source": [],
      "metadata": {
        "id": "Q9iscnUuOGFn"
      },
      "execution_count": null,
      "outputs": []
    }
  ]
}