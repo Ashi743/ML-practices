{
  "nbformat": 4,
  "nbformat_minor": 0,
  "metadata": {
    "colab": {
      "provenance": [],
      "authorship_tag": "ABX9TyOpenE7YeU1wb0UegkVR3+3",
      "include_colab_link": true
    },
    "kernelspec": {
      "name": "python3",
      "display_name": "Python 3"
    },
    "language_info": {
      "name": "python"
    }
  },
  "cells": [
    {
      "cell_type": "markdown",
      "metadata": {
        "id": "view-in-github",
        "colab_type": "text"
      },
      "source": [
        "<a href=\"https://colab.research.google.com/github/Ashi743/ML-practices/blob/main/robbing_.ipynb\" target=\"_parent\"><img src=\"https://colab.research.google.com/assets/colab-badge.svg\" alt=\"Open In Colab\"/></a>"
      ]
    },
    {
      "cell_type": "code",
      "execution_count": 29,
      "metadata": {
        "colab": {
          "base_uri": "https://localhost:8080/"
        },
        "id": "B9h0rHx8FDLX",
        "outputId": "9c668060-b5f8-4d22-cf9d-4301099d0b56"
      },
      "outputs": [
        {
          "output_type": "stream",
          "name": "stdout",
          "text": [
            "10\n"
          ]
        }
      ],
      "source": [
        "list1=[1,2,2,5,2,1,1,1,1,1]\n",
        "def rob(list):\n",
        "    if  len(list)==0 :\n",
        "      return 0\n",
        "\n",
        "    elif len(list)==1:\n",
        "      return list[0]\n",
        "\n",
        "    case1=list[0]+rob(list[2:])\n",
        "    case2=list[1]+rob(list[3:])\n",
        "    return max(case1,case2)\n",
        "\n",
        "print(rob(list1))\n",
        "\n"
      ]
    },
    {
      "cell_type": "code",
      "source": [
        "list1=[1,2,2,5,2,1,1,1,1,1]\n",
        "def rob(list):\n",
        "    if  len(list)==0 :\n",
        "      return 0\n",
        "\n",
        "    elif len(list)==1:\n",
        "      return list[0]\n",
        "    else:\n",
        "      case1=list[0]+rob(list[2:])\n",
        "\n",
        "      case2=list[1]+rob(list[3:])\n",
        "\n",
        "\n",
        "      return max(case1,case2)\n",
        "print(list1)\n",
        "print(rob(list1))\n",
        ""
      ],
      "metadata": {
        "colab": {
          "base_uri": "https://localhost:8080/"
        },
        "id": "E9a915nBOykJ",
        "outputId": "f3de5b4d-25e8-4fc7-f796-4ca51f153751"
      },
      "execution_count": 39,
      "outputs": [
        {
          "output_type": "stream",
          "name": "stdout",
          "text": [
            "[1, 2, 2, 5, 2, 1, 1, 1, 1, 1]\n",
            "10\n"
          ]
        }
      ]
    },
    {
      "cell_type": "code",
      "source": [
        "def rob(nums: list[int]) -> int:\n",
        "\n",
        "    def f(\n",
        "        nums: tuple[int],\n",
        "        d: dict[tuple[int], int]\n",
        "    ) -> int:\n",
        "        \"\"\"\n",
        "        nums: a tuple containing available houses to rob rn empty\n",
        "        d: a dict storing computed function calls so we don't recompute  rn empty\n",
        "        \"\"\"\n",
        "\n",
        "\n",
        "        # base cases\n",
        "        if len(nums) == 0: return 0\n",
        "        if len(nums) == 1: return nums[0]\n",
        "\n",
        "        # if this recursive call has been computed before\n",
        "        # use that computed value instead of recomputing\n",
        "        if nums in d:\n",
        "          print( d[nums])\n",
        "          return d[nums]\n",
        "\n",
        "        # compute value, and add to d before returning\n",
        "        case1 = nums[0] + f(nums[2:], d=d)\n",
        "        case2 = nums[1] + f(nums[3:], d=d)\n",
        "        print(case1,case2)\n",
        "        print(\"d[nums] : max(case1,case2)\")\n",
        "        print(d)\n",
        "        ans = max(case1, case2)\n",
        "\n",
        "        d[nums] = ans\n",
        "        return ans\n",
        "\n",
        "    d = {}\n",
        "\n",
        "    nums = tuple(nums)\n",
        "    return f(nums, d)\n",
        "list1=[1, 5,5, 2, 5, 2, 2,2]\n",
        "rob(list1)\n"
      ],
      "metadata": {
        "colab": {
          "base_uri": "https://localhost:8080/"
        },
        "id": "OUFfCniwSCdk",
        "outputId": "3fec3042-19fc-4175-e53d-ecb53c4d578a"
      },
      "execution_count": 27,
      "outputs": [
        {
          "output_type": "stream",
          "name": "stdout",
          "text": [
            "2 2\n",
            "d[nums] : max(case1,case2)\n",
            "{}\n",
            "7 4\n",
            "d[nums] : max(case1,case2)\n",
            "{(2, 2): 2}\n",
            "4 2\n",
            "d[nums] : max(case1,case2)\n",
            "{(2, 2): 2, (5, 2, 2, 2): 7}\n",
            "12 6\n",
            "d[nums] : max(case1,case2)\n",
            "{(2, 2): 2, (5, 2, 2, 2): 7, (2, 2, 2): 4}\n",
            "4\n",
            "2\n",
            "6 7\n",
            "d[nums] : max(case1,case2)\n",
            "{(2, 2): 2, (5, 2, 2, 2): 7, (2, 2, 2): 4, (5, 2, 5, 2, 2, 2): 12}\n",
            "13 12\n",
            "d[nums] : max(case1,case2)\n",
            "{(2, 2): 2, (5, 2, 2, 2): 7, (2, 2, 2): 4, (5, 2, 5, 2, 2, 2): 12, (2, 5, 2, 2, 2): 7}\n"
          ]
        },
        {
          "output_type": "execute_result",
          "data": {
            "text/plain": [
              "13"
            ]
          },
          "metadata": {},
          "execution_count": 27
        }
      ]
    },
    {
      "cell_type": "code",
      "source": [
        "list1 = [1, 2, 3, 4, 5]\n",
        "nums: tuple[int] = tuple(list1)\n",
        "\n",
        "# Creating a dictionary where each element of the tuple is a key with the same value\n",
        "d: dict[int, int] = {num: num for num in nums}\n",
        "\n",
        "print(nums)\n",
        "print(d)"
      ],
      "metadata": {
        "colab": {
          "base_uri": "https://localhost:8080/"
        },
        "id": "sNA-TrzsZn36",
        "outputId": "876fc120-8963-4aaa-b4f1-6161eaa924fa"
      },
      "execution_count": 7,
      "outputs": [
        {
          "output_type": "stream",
          "name": "stdout",
          "text": [
            "(1, 2, 3, 4, 5)\n",
            "{1: 1, 2: 2, 3: 3, 4: 4, 5: 5}\n"
          ]
        }
      ]
    },
    {
      "cell_type": "code",
      "source": [
        "def robbi(nums: list[int]) -> int:\n",
        "    # Implementation of the function that expects nums to be a list of integers\n",
        "    # to coder\n",
        "    return sum(nums)\n",
        "\n",
        "def robbi(any_list):\n",
        "    # Implementation of the function that doesn't specify the type of the parameter\n",
        "    return sum(any_list)\n",
        "\n",
        "nums = [1, 2, 3, 4]\n",
        "\n",
        "# Using the function with type hints\n",
        "result = robbi(nums)\n",
        "print(result)  # Output: 10\n",
        "print(type(result))\n",
        "\n",
        "# Using the function without type hints\n",
        "result_no_hints = robbi(nums)\n",
        "print(result_no_hints)  # Output: 10\n",
        "print(type(result_no_hints))\n"
      ],
      "metadata": {
        "colab": {
          "base_uri": "https://localhost:8080/"
        },
        "id": "AVvtBEipOGAu",
        "outputId": "eaf92644-7190-4c3b-b3e1-105bcb3d4237"
      },
      "execution_count": 26,
      "outputs": [
        {
          "output_type": "stream",
          "name": "stdout",
          "text": [
            "10\n",
            "<class 'int'>\n",
            "10\n",
            "<class 'int'>\n"
          ]
        }
      ]
    },
    {
      "cell_type": "code",
      "source": [],
      "metadata": {
        "id": "Q9iscnUuOGFn"
      },
      "execution_count": null,
      "outputs": []
    }
  ]
}