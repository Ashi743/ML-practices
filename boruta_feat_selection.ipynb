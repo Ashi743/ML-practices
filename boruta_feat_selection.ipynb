{
  "metadata": {
    "kernelspec": {
      "language": "python",
      "display_name": "Python 3",
      "name": "python3"
    },
    "language_info": {
      "name": "python",
      "version": "3.10.14",
      "mimetype": "text/x-python",
      "codemirror_mode": {
        "name": "ipython",
        "version": 3
      },
      "pygments_lexer": "ipython3",
      "nbconvert_exporter": "python",
      "file_extension": ".py"
    },
    "kaggle": {
      "accelerator": "none",
      "dataSources": [
        {
          "sourceId": 2984728,
          "sourceType": "datasetVersion",
          "datasetId": 1829286
        }
      ],
      "dockerImageVersionId": 30761,
      "isInternetEnabled": true,
      "language": "python",
      "sourceType": "notebook",
      "isGpuEnabled": false
    },
    "colab": {
      "name": "boruta feat_selection",
      "provenance": [],
      "include_colab_link": true
    }
  },
  "nbformat_minor": 0,
  "nbformat": 4,
  "cells": [
    {
      "cell_type": "markdown",
      "metadata": {
        "id": "view-in-github",
        "colab_type": "text"
      },
      "source": [
        "<a href=\"https://colab.research.google.com/github/Ashi743/ML-practices/blob/main/boruta_feat_selection.ipynb\" target=\"_parent\"><img src=\"https://colab.research.google.com/assets/colab-badge.svg\" alt=\"Open In Colab\"/></a>"
      ]
    },
    {
      "source": [
        "\n",
        "# IMPORTANT: RUN THIS CELL IN ORDER TO IMPORT YOUR KAGGLE DATA SOURCES\n",
        "# TO THE CORRECT LOCATION (/kaggle/input) IN YOUR NOTEBOOK,\n",
        "# THEN FEEL FREE TO DELETE THIS CELL.\n",
        "# NOTE: THIS NOTEBOOK ENVIRONMENT DIFFERS FROM KAGGLE'S PYTHON\n",
        "# ENVIRONMENT SO THERE MAY BE MISSING LIBRARIES USED BY YOUR\n",
        "# NOTEBOOK.\n",
        "\n",
        "import os\n",
        "import sys\n",
        "from tempfile import NamedTemporaryFile\n",
        "from urllib.request import urlopen\n",
        "from urllib.parse import unquote, urlparse\n",
        "from urllib.error import HTTPError\n",
        "from zipfile import ZipFile\n",
        "import tarfile\n",
        "import shutil\n",
        "\n",
        "CHUNK_SIZE = 40960\n",
        "DATA_SOURCE_MAPPING = 'breast-cancer-dataset:https%3A%2F%2Fstorage.googleapis.com%2Fkaggle-data-sets%2F1829286%2F2984728%2Fbundle%2Farchive.zip%3FX-Goog-Algorithm%3DGOOG4-RSA-SHA256%26X-Goog-Credential%3Dgcp-kaggle-com%2540kaggle-161607.iam.gserviceaccount.com%252F20240901%252Fauto%252Fstorage%252Fgoog4_request%26X-Goog-Date%3D20240901T131100Z%26X-Goog-Expires%3D259200%26X-Goog-SignedHeaders%3Dhost%26X-Goog-Signature%3D57e5a99fdc95bdbbba630f090d5a6edb166e1833fe4ec3b438920ed527518f159971419122de0ca74f6e4851ab46eaabf16f56cb9efd17e5cca37a29e1e5507c2efd6d480f2c35185edc694d9c76b2eeafe51c3b391c3fb42e58c0a34c88f7470bbd7cee0613c1119d014ba83c8076073dc36b6fb9c8c24fb0e4e3bd07faf1d451bfaca364b0b28ec7fec6380827f1eef5d26ed2eb1621ded9d951e0b62ee82f0e18b4cde0286e47ec910a88d0d976228549b9477bfa2417ebaf915515b8db8be5b778ef3243c50abaa8e9134eb1cdffd69cafa9c8fdd80955679c8b2d4a5c597e9bb9d5acc49fc6b59cdb3560391c25a6d25483c995a780e157e2e3c75746cf'\n",
        "\n",
        "KAGGLE_INPUT_PATH='/kaggle/input'\n",
        "KAGGLE_WORKING_PATH='/kaggle/working'\n",
        "KAGGLE_SYMLINK='kaggle'\n",
        "\n",
        "!umount /kaggle/input/ 2> /dev/null\n",
        "shutil.rmtree('/kaggle/input', ignore_errors=True)\n",
        "os.makedirs(KAGGLE_INPUT_PATH, 0o777, exist_ok=True)\n",
        "os.makedirs(KAGGLE_WORKING_PATH, 0o777, exist_ok=True)\n",
        "\n",
        "try:\n",
        "  os.symlink(KAGGLE_INPUT_PATH, os.path.join(\"..\", 'input'), target_is_directory=True)\n",
        "except FileExistsError:\n",
        "  pass\n",
        "try:\n",
        "  os.symlink(KAGGLE_WORKING_PATH, os.path.join(\"..\", 'working'), target_is_directory=True)\n",
        "except FileExistsError:\n",
        "  pass\n",
        "\n",
        "for data_source_mapping in DATA_SOURCE_MAPPING.split(','):\n",
        "    directory, download_url_encoded = data_source_mapping.split(':')\n",
        "    download_url = unquote(download_url_encoded)\n",
        "    filename = urlparse(download_url).path\n",
        "    destination_path = os.path.join(KAGGLE_INPUT_PATH, directory)\n",
        "    try:\n",
        "        with urlopen(download_url) as fileres, NamedTemporaryFile() as tfile:\n",
        "            total_length = fileres.headers['content-length']\n",
        "            print(f'Downloading {directory}, {total_length} bytes compressed')\n",
        "            dl = 0\n",
        "            data = fileres.read(CHUNK_SIZE)\n",
        "            while len(data) > 0:\n",
        "                dl += len(data)\n",
        "                tfile.write(data)\n",
        "                done = int(50 * dl / int(total_length))\n",
        "                sys.stdout.write(f\"\\r[{'=' * done}{' ' * (50-done)}] {dl} bytes downloaded\")\n",
        "                sys.stdout.flush()\n",
        "                data = fileres.read(CHUNK_SIZE)\n",
        "            if filename.endswith('.zip'):\n",
        "              with ZipFile(tfile) as zfile:\n",
        "                zfile.extractall(destination_path)\n",
        "            else:\n",
        "              with tarfile.open(tfile.name) as tarfile:\n",
        "                tarfile.extractall(destination_path)\n",
        "            print(f'\\nDownloaded and uncompressed: {directory}')\n",
        "    except HTTPError as e:\n",
        "        print(f'Failed to load (likely expired) {download_url} to path {destination_path}')\n",
        "        continue\n",
        "    except OSError as e:\n",
        "        print(f'Failed to load {download_url} to path {destination_path}')\n",
        "        continue\n",
        "\n",
        "print('Data source import complete.')\n"
      ],
      "metadata": {
        "id": "5i94XbGVteld"
      },
      "cell_type": "code",
      "outputs": [],
      "execution_count": null
    },
    {
      "cell_type": "code",
      "source": [
        "# This Python 3 environment comes with many helpful analytics libraries installed\n",
        "# It is defined by the kaggle/python Docker image: https://github.com/kaggle/docker-python\n",
        "# For example, here's several helpful packages to load\n",
        "\n",
        "import numpy as np # linear algebra\n",
        "import pandas as pd # data processing, CSV file I/O (e.g. pd.read_csv)\n",
        "\n",
        "# Input data files are available in the read-only \"../input/\" directory\n",
        "# For example, running this (by clicking run or pressing Shift+Enter) will list all files under the input directory\n",
        "\n",
        "import os\n",
        "for dirname, _, filenames in os.walk('/kaggle/input'):\n",
        "    for filename in filenames:\n",
        "        print(os.path.join(dirname, filename))\n",
        "\n",
        "# You can write up to 20GB to the current directory (/kaggle/working/) that gets preserved as output when you create a version using \"Save & Run All\"\n",
        "# You can also write temporary files to /kaggle/temp/, but they won't be saved outside of the current session"
      ],
      "metadata": {
        "_uuid": "8f2839f25d086af736a60e9eeb907d3b93b6e0e5",
        "_cell_guid": "b1076dfc-b9ad-4769-8c92-a6c4dae69d19",
        "execution": {
          "iopub.status.busy": "2024-09-01T11:26:38.187674Z",
          "iopub.execute_input": "2024-09-01T11:26:38.188083Z",
          "iopub.status.idle": "2024-09-01T11:26:38.603651Z",
          "shell.execute_reply.started": "2024-09-01T11:26:38.188043Z",
          "shell.execute_reply": "2024-09-01T11:26:38.602376Z"
        },
        "trusted": true,
        "id": "Zx3WE0matelo",
        "outputId": "e7b33e0a-2458-48b4-c92b-cea35238f37c"
      },
      "execution_count": null,
      "outputs": [
        {
          "name": "stdout",
          "text": "/kaggle/input/breast-cancer-dataset/breast-cancer.csv\n",
          "output_type": "stream"
        }
      ]
    },
    {
      "cell_type": "code",
      "source": [
        "import warnings\n",
        "warnings.filterwarnings('ignore')\n"
      ],
      "metadata": {
        "execution": {
          "iopub.status.busy": "2024-09-01T12:14:53.961754Z",
          "iopub.execute_input": "2024-09-01T12:14:53.962164Z",
          "iopub.status.idle": "2024-09-01T12:14:53.967315Z",
          "shell.execute_reply.started": "2024-09-01T12:14:53.962126Z",
          "shell.execute_reply": "2024-09-01T12:14:53.966142Z"
        },
        "trusted": true,
        "id": "vhC7uIYItelp"
      },
      "execution_count": null,
      "outputs": []
    },
    {
      "cell_type": "code",
      "source": [
        "df= pd.read_csv(\"/kaggle/input/breast-cancer-dataset/breast-cancer.csv\")"
      ],
      "metadata": {
        "execution": {
          "iopub.status.busy": "2024-09-01T11:47:39.202532Z",
          "iopub.execute_input": "2024-09-01T11:47:39.20293Z",
          "iopub.status.idle": "2024-09-01T11:47:39.214288Z",
          "shell.execute_reply.started": "2024-09-01T11:47:39.202894Z",
          "shell.execute_reply": "2024-09-01T11:47:39.213228Z"
        },
        "trusted": true,
        "id": "x4fZxpBptelq"
      },
      "execution_count": null,
      "outputs": []
    },
    {
      "cell_type": "code",
      "source": [
        "df.columns"
      ],
      "metadata": {
        "execution": {
          "iopub.status.busy": "2024-09-01T11:47:40.999983Z",
          "iopub.execute_input": "2024-09-01T11:47:41.000406Z",
          "iopub.status.idle": "2024-09-01T11:47:41.007842Z",
          "shell.execute_reply.started": "2024-09-01T11:47:41.000351Z",
          "shell.execute_reply": "2024-09-01T11:47:41.006691Z"
        },
        "trusted": true,
        "id": "7JCuXNwwtelq",
        "outputId": "fc8220cc-394f-47a2-8d70-a106ec0a14ac"
      },
      "execution_count": null,
      "outputs": [
        {
          "execution_count": 27,
          "output_type": "execute_result",
          "data": {
            "text/plain": "Index(['id', 'diagnosis', 'radius_mean', 'texture_mean', 'perimeter_mean',\n       'area_mean', 'smoothness_mean', 'compactness_mean', 'concavity_mean',\n       'concave points_mean', 'symmetry_mean', 'fractal_dimension_mean',\n       'radius_se', 'texture_se', 'perimeter_se', 'area_se', 'smoothness_se',\n       'compactness_se', 'concavity_se', 'concave points_se', 'symmetry_se',\n       'fractal_dimension_se', 'radius_worst', 'texture_worst',\n       'perimeter_worst', 'area_worst', 'smoothness_worst',\n       'compactness_worst', 'concavity_worst', 'concave points_worst',\n       'symmetry_worst', 'fractal_dimension_worst'],\n      dtype='object')"
          },
          "metadata": {}
        }
      ]
    },
    {
      "cell_type": "code",
      "source": [
        "df.drop(columns= [\"id\"], inplace=True)"
      ],
      "metadata": {
        "execution": {
          "iopub.status.busy": "2024-09-01T11:47:43.00186Z",
          "iopub.execute_input": "2024-09-01T11:47:43.002273Z",
          "iopub.status.idle": "2024-09-01T11:47:43.008598Z",
          "shell.execute_reply.started": "2024-09-01T11:47:43.002233Z",
          "shell.execute_reply": "2024-09-01T11:47:43.007417Z"
        },
        "trusted": true,
        "id": "97w5R7YRtelr"
      },
      "execution_count": null,
      "outputs": []
    },
    {
      "cell_type": "code",
      "source": [
        "X= df.drop(columns=[\"diagnosis\"])\n",
        "Y= pd.DataFrame(df[\"diagnosis\"])"
      ],
      "metadata": {
        "execution": {
          "iopub.status.busy": "2024-09-01T12:01:40.161204Z",
          "iopub.execute_input": "2024-09-01T12:01:40.16212Z",
          "iopub.status.idle": "2024-09-01T12:01:40.168417Z",
          "shell.execute_reply.started": "2024-09-01T12:01:40.162076Z",
          "shell.execute_reply": "2024-09-01T12:01:40.167421Z"
        },
        "trusted": true,
        "id": "yVT14eLWtels"
      },
      "execution_count": null,
      "outputs": []
    },
    {
      "cell_type": "code",
      "source": [
        "X"
      ],
      "metadata": {
        "execution": {
          "iopub.status.busy": "2024-09-01T12:48:14.066529Z",
          "iopub.execute_input": "2024-09-01T12:48:14.0674Z",
          "iopub.status.idle": "2024-09-01T12:48:14.074694Z",
          "shell.execute_reply.started": "2024-09-01T12:48:14.067348Z",
          "shell.execute_reply": "2024-09-01T12:48:14.073492Z"
        },
        "trusted": true,
        "id": "VLBhVKNmtelu",
        "outputId": "789cfa77-2d47-4d9b-8d15-df846762efe9"
      },
      "execution_count": null,
      "outputs": [
        {
          "execution_count": 105,
          "output_type": "execute_result",
          "data": {
            "text/plain": "array([[ 1.09706398, -2.07333501,  1.26993369, ...,  2.29607613,\n         2.75062224,  1.93701461],\n       [ 1.82982061, -0.35363241,  1.68595471, ...,  1.0870843 ,\n        -0.24388967,  0.28118999],\n       [ 1.57988811,  0.45618695,  1.56650313, ...,  1.95500035,\n         1.152255  ,  0.20139121],\n       ...,\n       [ 0.70228425,  2.0455738 ,  0.67267578, ...,  0.41406869,\n        -1.10454895, -0.31840916],\n       [ 1.83834103,  2.33645719,  1.98252415, ...,  2.28998549,\n         1.91908301,  2.21963528],\n       [-1.80840125,  1.22179204, -1.81438851, ..., -1.74506282,\n        -0.04813821, -0.75120669]])"
          },
          "metadata": {}
        }
      ]
    },
    {
      "cell_type": "code",
      "source": [
        "X.shape"
      ],
      "metadata": {
        "execution": {
          "iopub.status.busy": "2024-09-01T12:19:17.127157Z",
          "iopub.execute_input": "2024-09-01T12:19:17.127963Z",
          "iopub.status.idle": "2024-09-01T12:19:17.134832Z",
          "shell.execute_reply.started": "2024-09-01T12:19:17.127917Z",
          "shell.execute_reply": "2024-09-01T12:19:17.13375Z"
        },
        "trusted": true,
        "id": "hvnsG1o6tely",
        "outputId": "b80a7ac4-5f0c-4c8f-f523-2fb257ac75d2"
      },
      "execution_count": null,
      "outputs": [
        {
          "execution_count": 69,
          "output_type": "execute_result",
          "data": {
            "text/plain": "(569, 30)"
          },
          "metadata": {}
        }
      ]
    },
    {
      "cell_type": "code",
      "source": [
        "from sklearn.preprocessing import LabelEncoder\n",
        "le =LabelEncoder()\n",
        "Y_le= le.fit_transform(Y)\n",
        "Y_le\n",
        "\n",
        "from sklearn.preprocessing import StandardScaler\n",
        "ss= StandardScaler()\n",
        "ss.fit(X)\n",
        "X= ss.transform(X)\n",
        "\n",
        "from sklearn.model_selection import train_test_split\n",
        "from sklearn.ensemble import RandomForestClassifier\n",
        "from sklearn.feature_selection import SelectKBest,  f_classif\n",
        "from sklearn.metrics import accuracy_score"
      ],
      "metadata": {
        "execution": {
          "iopub.status.busy": "2024-09-01T12:17:04.445776Z",
          "iopub.execute_input": "2024-09-01T12:17:04.446257Z",
          "iopub.status.idle": "2024-09-01T12:17:04.456502Z",
          "shell.execute_reply.started": "2024-09-01T12:17:04.446212Z",
          "shell.execute_reply": "2024-09-01T12:17:04.455382Z"
        },
        "trusted": true,
        "id": "Z8YWiFdetelz"
      },
      "execution_count": null,
      "outputs": []
    },
    {
      "cell_type": "code",
      "source": [
        "X_train, X_test,Y_train, Y_test= train_test_split(X,Y_le)"
      ],
      "metadata": {
        "execution": {
          "iopub.status.busy": "2024-09-01T12:29:41.930796Z",
          "iopub.execute_input": "2024-09-01T12:29:41.931865Z",
          "iopub.status.idle": "2024-09-01T12:29:41.937418Z",
          "shell.execute_reply.started": "2024-09-01T12:29:41.931817Z",
          "shell.execute_reply": "2024-09-01T12:29:41.936323Z"
        },
        "trusted": true,
        "id": "HOfAYdK4tel0"
      },
      "execution_count": null,
      "outputs": []
    },
    {
      "cell_type": "code",
      "source": [
        "selector = SelectKBest(score_func=f_classif, k=9)  # Here, k=2 means selecting the top 2 features\n",
        "\n",
        "X_train_selected = selector.fit_transform(X_train, Y_train)\n",
        "X_test_selected = selector.transform(X_test)\n",
        "\n",
        "model = RandomForestClassifier(random_state=42)\n",
        "model.fit(X_train_selected, Y_train)\n",
        "\n",
        "y_pred = model.predict(X_test_selected)\n",
        "accuracy = accuracy_score(Y_test, y_pred)\n",
        "print(f\"Accuracy with selected features: {accuracy:.2f}\")\n",
        "\n",
        "selected_features = selector.get_support(indices=True)"
      ],
      "metadata": {
        "execution": {
          "iopub.status.busy": "2024-09-01T12:35:06.207102Z",
          "iopub.execute_input": "2024-09-01T12:35:06.207551Z",
          "iopub.status.idle": "2024-09-01T12:35:06.428015Z",
          "shell.execute_reply.started": "2024-09-01T12:35:06.207512Z",
          "shell.execute_reply": "2024-09-01T12:35:06.42692Z"
        },
        "trusted": true,
        "id": "wjwCDgEetel1",
        "outputId": "e030a510-3877-4769-d0a5-95fa0ca65181"
      },
      "execution_count": null,
      "outputs": [
        {
          "name": "stdout",
          "text": "Accuracy with selected features: 0.93\n",
          "output_type": "stream"
        }
      ]
    },
    {
      "cell_type": "code",
      "source": [
        "selected_features"
      ],
      "metadata": {
        "execution": {
          "iopub.status.busy": "2024-09-01T12:35:26.877536Z",
          "iopub.execute_input": "2024-09-01T12:35:26.877947Z",
          "iopub.status.idle": "2024-09-01T12:35:26.88507Z",
          "shell.execute_reply.started": "2024-09-01T12:35:26.877912Z",
          "shell.execute_reply": "2024-09-01T12:35:26.883849Z"
        },
        "trusted": true,
        "id": "U5mkaqIYtel2",
        "outputId": "8d45d01c-aa53-45a9-916a-4d5d08cfd2e8"
      },
      "execution_count": null,
      "outputs": [
        {
          "execution_count": 92,
          "output_type": "execute_result",
          "data": {
            "text/plain": "array([ 0,  2,  3,  6,  7, 20, 22, 23, 27])"
          },
          "metadata": {}
        }
      ]
    },
    {
      "cell_type": "code",
      "source": [],
      "metadata": {
        "id": "oXzCWnJitel3"
      },
      "execution_count": null,
      "outputs": []
    },
    {
      "cell_type": "code",
      "source": [
        "pd.DataFrame(X_test_selected, columns= selected_features)"
      ],
      "metadata": {
        "execution": {
          "iopub.status.busy": "2024-09-01T12:36:39.390807Z",
          "iopub.execute_input": "2024-09-01T12:36:39.391749Z",
          "iopub.status.idle": "2024-09-01T12:36:39.409414Z",
          "shell.execute_reply.started": "2024-09-01T12:36:39.391699Z",
          "shell.execute_reply": "2024-09-01T12:36:39.408296Z"
        },
        "trusted": true,
        "id": "1j0LmBAOtel3",
        "outputId": "1c83f44a-5254-44e5-9be7-fa688bbd05b3"
      },
      "execution_count": null,
      "outputs": [
        {
          "execution_count": 95,
          "output_type": "execute_result",
          "data": {
            "text/plain": "           0         2         3         6         7         20        22  \\\n0    0.449512  0.413178  0.303781 -0.219076  0.268537  0.254879  0.209656   \n1   -0.413892 -0.441519 -0.469246 -0.713993 -0.718340 -0.529963 -0.552861   \n2   -0.450813 -0.441519 -0.507926 -0.370614 -0.416035 -0.558955 -0.613327   \n3    0.398389  0.483201  0.256000  1.083503  0.904617  0.459891  0.567086   \n4    0.969258  0.952769  0.843876  0.185822  0.669634  0.859560  0.960259   \n..        ...       ...       ...       ...       ...       ...       ...   \n138  0.446671  0.380225  0.317717 -0.287124  0.076630  0.795365  0.656444   \n139 -0.584300 -0.582390 -0.596377 -0.640169 -0.540104 -0.583805 -0.605880   \n140 -0.357089 -0.383029 -0.414355 -0.889260 -0.722725 -0.376722 -0.361040   \n141  0.264902  0.343154  0.144227  1.019472  1.011920  0.406050  0.483686   \n142 -0.374130 -0.439872 -0.415492 -0.999455 -0.918760 -0.546530 -0.612433   \n\n           23        27  \n0    0.074214  0.347072  \n1   -0.538243 -0.892069  \n2   -0.577620 -0.464354  \n3    0.271451  1.321574  \n4    0.630066  1.207374  \n..        ...       ...  \n138  0.682803  0.601356  \n139 -0.581312 -0.619360  \n140 -0.445953 -0.772997  \n141  0.253872  1.475363  \n142 -0.544747 -1.137522  \n\n[143 rows x 9 columns]",
            "text/html": "<div>\n<style scoped>\n    .dataframe tbody tr th:only-of-type {\n        vertical-align: middle;\n    }\n\n    .dataframe tbody tr th {\n        vertical-align: top;\n    }\n\n    .dataframe thead th {\n        text-align: right;\n    }\n</style>\n<table border=\"1\" class=\"dataframe\">\n  <thead>\n    <tr style=\"text-align: right;\">\n      <th></th>\n      <th>0</th>\n      <th>2</th>\n      <th>3</th>\n      <th>6</th>\n      <th>7</th>\n      <th>20</th>\n      <th>22</th>\n      <th>23</th>\n      <th>27</th>\n    </tr>\n  </thead>\n  <tbody>\n    <tr>\n      <th>0</th>\n      <td>0.449512</td>\n      <td>0.413178</td>\n      <td>0.303781</td>\n      <td>-0.219076</td>\n      <td>0.268537</td>\n      <td>0.254879</td>\n      <td>0.209656</td>\n      <td>0.074214</td>\n      <td>0.347072</td>\n    </tr>\n    <tr>\n      <th>1</th>\n      <td>-0.413892</td>\n      <td>-0.441519</td>\n      <td>-0.469246</td>\n      <td>-0.713993</td>\n      <td>-0.718340</td>\n      <td>-0.529963</td>\n      <td>-0.552861</td>\n      <td>-0.538243</td>\n      <td>-0.892069</td>\n    </tr>\n    <tr>\n      <th>2</th>\n      <td>-0.450813</td>\n      <td>-0.441519</td>\n      <td>-0.507926</td>\n      <td>-0.370614</td>\n      <td>-0.416035</td>\n      <td>-0.558955</td>\n      <td>-0.613327</td>\n      <td>-0.577620</td>\n      <td>-0.464354</td>\n    </tr>\n    <tr>\n      <th>3</th>\n      <td>0.398389</td>\n      <td>0.483201</td>\n      <td>0.256000</td>\n      <td>1.083503</td>\n      <td>0.904617</td>\n      <td>0.459891</td>\n      <td>0.567086</td>\n      <td>0.271451</td>\n      <td>1.321574</td>\n    </tr>\n    <tr>\n      <th>4</th>\n      <td>0.969258</td>\n      <td>0.952769</td>\n      <td>0.843876</td>\n      <td>0.185822</td>\n      <td>0.669634</td>\n      <td>0.859560</td>\n      <td>0.960259</td>\n      <td>0.630066</td>\n      <td>1.207374</td>\n    </tr>\n    <tr>\n      <th>...</th>\n      <td>...</td>\n      <td>...</td>\n      <td>...</td>\n      <td>...</td>\n      <td>...</td>\n      <td>...</td>\n      <td>...</td>\n      <td>...</td>\n      <td>...</td>\n    </tr>\n    <tr>\n      <th>138</th>\n      <td>0.446671</td>\n      <td>0.380225</td>\n      <td>0.317717</td>\n      <td>-0.287124</td>\n      <td>0.076630</td>\n      <td>0.795365</td>\n      <td>0.656444</td>\n      <td>0.682803</td>\n      <td>0.601356</td>\n    </tr>\n    <tr>\n      <th>139</th>\n      <td>-0.584300</td>\n      <td>-0.582390</td>\n      <td>-0.596377</td>\n      <td>-0.640169</td>\n      <td>-0.540104</td>\n      <td>-0.583805</td>\n      <td>-0.605880</td>\n      <td>-0.581312</td>\n      <td>-0.619360</td>\n    </tr>\n    <tr>\n      <th>140</th>\n      <td>-0.357089</td>\n      <td>-0.383029</td>\n      <td>-0.414355</td>\n      <td>-0.889260</td>\n      <td>-0.722725</td>\n      <td>-0.376722</td>\n      <td>-0.361040</td>\n      <td>-0.445953</td>\n      <td>-0.772997</td>\n    </tr>\n    <tr>\n      <th>141</th>\n      <td>0.264902</td>\n      <td>0.343154</td>\n      <td>0.144227</td>\n      <td>1.019472</td>\n      <td>1.011920</td>\n      <td>0.406050</td>\n      <td>0.483686</td>\n      <td>0.253872</td>\n      <td>1.475363</td>\n    </tr>\n    <tr>\n      <th>142</th>\n      <td>-0.374130</td>\n      <td>-0.439872</td>\n      <td>-0.415492</td>\n      <td>-0.999455</td>\n      <td>-0.918760</td>\n      <td>-0.546530</td>\n      <td>-0.612433</td>\n      <td>-0.544747</td>\n      <td>-1.137522</td>\n    </tr>\n  </tbody>\n</table>\n<p>143 rows × 9 columns</p>\n</div>"
          },
          "metadata": {}
        }
      ]
    },
    {
      "cell_type": "code",
      "source": [
        "import matplotlib.pyplot as plt\n",
        "scores= []\n",
        "for i in range(X.shape[1]):\n",
        "    selector = SelectKBest(score_func=f_classif, k=i+1)  # Here, k=2 means selecting the top 2 features\n",
        "\n",
        "    X_train_selected = selector.fit_transform(X_train, Y_train)\n",
        "    X_test_selected = selector.transform(X_test)\n",
        "\n",
        "    model = RandomForestClassifier(random_state=42)\n",
        "    model.fit(X_train_selected, Y_train)\n",
        "\n",
        "    y_pred = model.predict(X_test_selected)\n",
        "    accuracy = accuracy_score(Y_test, y_pred)\n",
        "    scores.append(accuracy)\n",
        "    #print(f\"Accuracy with selected features: {accuracy:.2f}\")\n",
        "\n",
        "plt.plot(range(1, X.shape[1] + 1),scores, marker='o')\n",
        "plt.xlabel('Number of Selected Features')\n",
        "plt.ylabel('Accuracy')\n",
        "plt.title('Accuracy vs. Number of Selected Features')\n",
        "plt.grid(True)\n",
        "plt.show()"
      ],
      "metadata": {
        "execution": {
          "iopub.status.busy": "2024-09-01T12:29:47.860773Z",
          "iopub.execute_input": "2024-09-01T12:29:47.861183Z",
          "iopub.status.idle": "2024-09-01T12:29:54.564281Z",
          "shell.execute_reply.started": "2024-09-01T12:29:47.861142Z",
          "shell.execute_reply": "2024-09-01T12:29:54.563259Z"
        },
        "trusted": true,
        "id": "fyvQOXpXtel4",
        "outputId": "cba0e985-989e-41b8-ef8f-75788750fb32"
      },
      "execution_count": null,
      "outputs": [
        {
          "output_type": "display_data",
          "data": {
            "text/plain": "<Figure size 640x480 with 1 Axes>",
            "image/png": "[encoded data removed]"
          },
          "metadata": {}
        }
      ]
    },
    {
      "cell_type": "markdown",
      "source": [
        "***boruta***"
      ],
      "metadata": {
        "id": "SHQOha0gtel4"
      }
    },
    {
      "cell_type": "code",
      "source": [
        "X= df.drop(columns=[\"diagnosis\"])\n",
        "Y= pd.DataFrame(df[\"diagnosis\"])\n",
        "\n",
        "from sklearn.preprocessing import LabelEncoder\n",
        "le =LabelEncoder()\n",
        "Y_le= le.fit_transform(Y)\n",
        "Y_le\n",
        "\n",
        "from sklearn.preprocessing import StandardScaler\n",
        "ss= StandardScaler()\n",
        "ss.fit(X)\n",
        "X_ss= ss.transform(X)\n",
        "\n",
        "X_train, X_test,Y_train, Y_test= train_test_split(X_ss,Y_le)"
      ],
      "metadata": {
        "execution": {
          "iopub.status.busy": "2024-09-01T12:50:42.382283Z",
          "iopub.execute_input": "2024-09-01T12:50:42.382989Z",
          "iopub.status.idle": "2024-09-01T12:50:42.396045Z",
          "shell.execute_reply.started": "2024-09-01T12:50:42.382949Z",
          "shell.execute_reply": "2024-09-01T12:50:42.395038Z"
        },
        "trusted": true,
        "id": "m_RffHYNtel7"
      },
      "execution_count": null,
      "outputs": []
    },
    {
      "cell_type": "code",
      "source": [
        "import xgboost as xgb\n",
        "model= xgb.XGBClassifier()  #for boruta\n",
        "from boruta import BorutaPy as Bpy\n",
        "feat_selector= Bpy(model,n_estimators= 50 ,verbose= 2 )\n",
        "feat_selector.fit(X_train, Y_train)\n"
      ],
      "metadata": {
        "execution": {
          "iopub.status.busy": "2024-09-01T13:04:55.694299Z",
          "iopub.execute_input": "2024-09-01T13:04:55.694902Z",
          "iopub.status.idle": "2024-09-01T13:04:59.89944Z",
          "shell.execute_reply.started": "2024-09-01T13:04:55.694859Z",
          "shell.execute_reply": "2024-09-01T13:04:59.89838Z"
        },
        "trusted": true,
        "id": "DRikGM8ftel8",
        "outputId": "7eac7820-9cfe-4880-f26c-1ae8760b4d58"
      },
      "execution_count": null,
      "outputs": [
        {
          "name": "stdout",
          "text": "Iteration: \t1 / 100\nConfirmed: \t0\nTentative: \t30\nRejected: \t0\nIteration: \t2 / 100\nConfirmed: \t0\nTentative: \t30\nRejected: \t0\nIteration: \t3 / 100\nConfirmed: \t0\nTentative: \t30\nRejected: \t0\nIteration: \t4 / 100\nConfirmed: \t0\nTentative: \t30\nRejected: \t0\nIteration: \t5 / 100\nConfirmed: \t0\nTentative: \t30\nRejected: \t0\nIteration: \t6 / 100\nConfirmed: \t0\nTentative: \t30\nRejected: \t0\nIteration: \t7 / 100\nConfirmed: \t0\nTentative: \t30\nRejected: \t0\nIteration: \t8 / 100\nConfirmed: \t5\nTentative: \t9\nRejected: \t16\nIteration: \t9 / 100\nConfirmed: \t5\nTentative: \t9\nRejected: \t16\nIteration: \t10 / 100\nConfirmed: \t5\nTentative: \t9\nRejected: \t16\nIteration: \t11 / 100\nConfirmed: \t5\nTentative: \t9\nRejected: \t16\nIteration: \t12 / 100\nConfirmed: \t5\nTentative: \t7\nRejected: \t18\nIteration: \t13 / 100\nConfirmed: \t5\nTentative: \t7\nRejected: \t18\nIteration: \t14 / 100\nConfirmed: \t5\nTentative: \t7\nRejected: \t18\nIteration: \t15 / 100\nConfirmed: \t5\nTentative: \t7\nRejected: \t18\nIteration: \t16 / 100\nConfirmed: \t5\nTentative: \t5\nRejected: \t20\nIteration: \t17 / 100\nConfirmed: \t5\nTentative: \t5\nRejected: \t20\nIteration: \t18 / 100\nConfirmed: \t5\nTentative: \t5\nRejected: \t20\nIteration: \t19 / 100\nConfirmed: \t5\nTentative: \t5\nRejected: \t20\nIteration: \t20 / 100\nConfirmed: \t5\nTentative: \t5\nRejected: \t20\nIteration: \t21 / 100\nConfirmed: \t5\nTentative: \t5\nRejected: \t20\nIteration: \t22 / 100\nConfirmed: \t5\nTentative: \t5\nRejected: \t20\nIteration: \t23 / 100\nConfirmed: \t5\nTentative: \t5\nRejected: \t20\nIteration: \t24 / 100\nConfirmed: \t5\nTentative: \t5\nRejected: \t20\nIteration: \t25 / 100\nConfirmed: \t5\nTentative: \t5\nRejected: \t20\nIteration: \t26 / 100\nConfirmed: \t5\nTentative: \t5\nRejected: \t20\nIteration: \t27 / 100\nConfirmed: \t5\nTentative: \t5\nRejected: \t20\nIteration: \t28 / 100\nConfirmed: \t5\nTentative: \t5\nRejected: \t20\nIteration: \t29 / 100\nConfirmed: \t5\nTentative: \t5\nRejected: \t20\nIteration: \t30 / 100\nConfirmed: \t5\nTentative: \t5\nRejected: \t20\nIteration: \t31 / 100\nConfirmed: \t5\nTentative: \t5\nRejected: \t20\nIteration: \t32 / 100\nConfirmed: \t5\nTentative: \t5\nRejected: \t20\nIteration: \t33 / 100\nConfirmed: \t5\nTentative: \t5\nRejected: \t20\nIteration: \t34 / 100\nConfirmed: \t5\nTentative: \t5\nRejected: \t20\nIteration: \t35 / 100\nConfirmed: \t5\nTentative: \t5\nRejected: \t20\nIteration: \t36 / 100\nConfirmed: \t5\nTentative: \t5\nRejected: \t20\nIteration: \t37 / 100\nConfirmed: \t5\nTentative: \t5\nRejected: \t20\nIteration: \t38 / 100\nConfirmed: \t5\nTentative: \t5\nRejected: \t20\nIteration: \t39 / 100\nConfirmed: \t5\nTentative: \t5\nRejected: \t20\nIteration: \t40 / 100\nConfirmed: \t5\nTentative: \t5\nRejected: \t20\nIteration: \t41 / 100\nConfirmed: \t5\nTentative: \t5\nRejected: \t20\nIteration: \t42 / 100\nConfirmed: \t5\nTentative: \t5\nRejected: \t20\nIteration: \t43 / 100\nConfirmed: \t7\nTentative: \t3\nRejected: \t20\nIteration: \t44 / 100\nConfirmed: \t7\nTentative: \t3\nRejected: \t20\nIteration: \t45 / 100\nConfirmed: \t7\nTentative: \t3\nRejected: \t20\nIteration: \t46 / 100\nConfirmed: \t7\nTentative: \t3\nRejected: \t20\nIteration: \t47 / 100\nConfirmed: \t7\nTentative: \t3\nRejected: \t20\nIteration: \t48 / 100\nConfirmed: \t7\nTentative: \t3\nRejected: \t20\nIteration: \t49 / 100\nConfirmed: \t7\nTentative: \t3\nRejected: \t20\nIteration: \t50 / 100\nConfirmed: \t7\nTentative: \t3\nRejected: \t20\nIteration: \t51 / 100\nConfirmed: \t7\nTentative: \t3\nRejected: \t20\nIteration: \t52 / 100\nConfirmed: \t7\nTentative: \t3\nRejected: \t20\nIteration: \t53 / 100\nConfirmed: \t7\nTentative: \t3\nRejected: \t20\nIteration: \t54 / 100\nConfirmed: \t7\nTentative: \t3\nRejected: \t20\nIteration: \t55 / 100\nConfirmed: \t7\nTentative: \t3\nRejected: \t20\nIteration: \t56 / 100\nConfirmed: \t7\nTentative: \t3\nRejected: \t20\nIteration: \t57 / 100\nConfirmed: \t7\nTentative: \t3\nRejected: \t20\nIteration: \t58 / 100\nConfirmed: \t7\nTentative: \t3\nRejected: \t20\nIteration: \t59 / 100\nConfirmed: \t7\nTentative: \t3\nRejected: \t20\nIteration: \t60 / 100\nConfirmed: \t7\nTentative: \t3\nRejected: \t20\nIteration: \t61 / 100\nConfirmed: \t7\nTentative: \t3\nRejected: \t20\nIteration: \t62 / 100\nConfirmed: \t7\nTentative: \t3\nRejected: \t20\nIteration: \t63 / 100\nConfirmed: \t7\nTentative: \t3\nRejected: \t20\nIteration: \t64 / 100\nConfirmed: \t7\nTentative: \t3\nRejected: \t20\nIteration: \t65 / 100\nConfirmed: \t7\nTentative: \t3\nRejected: \t20\nIteration: \t66 / 100\nConfirmed: \t7\nTentative: \t3\nRejected: \t20\nIteration: \t67 / 100\nConfirmed: \t7\nTentative: \t3\nRejected: \t20\nIteration: \t68 / 100\nConfirmed: \t7\nTentative: \t3\nRejected: \t20\nIteration: \t69 / 100\nConfirmed: \t7\nTentative: \t3\nRejected: \t20\nIteration: \t70 / 100\nConfirmed: \t7\nTentative: \t3\nRejected: \t20\nIteration: \t71 / 100\nConfirmed: \t7\nTentative: \t3\nRejected: \t20\nIteration: \t72 / 100\nConfirmed: \t7\nTentative: \t3\nRejected: \t20\nIteration: \t73 / 100\nConfirmed: \t7\nTentative: \t3\nRejected: \t20\nIteration: \t74 / 100\nConfirmed: \t7\nTentative: \t3\nRejected: \t20\nIteration: \t75 / 100\nConfirmed: \t7\nTentative: \t3\nRejected: \t20\nIteration: \t76 / 100\nConfirmed: \t7\nTentative: \t3\nRejected: \t20\nIteration: \t77 / 100\nConfirmed: \t7\nTentative: \t3\nRejected: \t20\nIteration: \t78 / 100\nConfirmed: \t7\nTentative: \t3\nRejected: \t20\nIteration: \t79 / 100\nConfirmed: \t7\nTentative: \t3\nRejected: \t20\nIteration: \t80 / 100\nConfirmed: \t7\nTentative: \t3\nRejected: \t20\nIteration: \t81 / 100\nConfirmed: \t7\nTentative: \t3\nRejected: \t20\nIteration: \t82 / 100\nConfirmed: \t7\nTentative: \t3\nRejected: \t20\nIteration: \t83 / 100\nConfirmed: \t7\nTentative: \t3\nRejected: \t20\nIteration: \t84 / 100\nConfirmed: \t7\nTentative: \t3\nRejected: \t20\nIteration: \t85 / 100\nConfirmed: \t7\nTentative: \t3\nRejected: \t20\nIteration: \t86 / 100\nConfirmed: \t7\nTentative: \t3\nRejected: \t20\nIteration: \t87 / 100\nConfirmed: \t7\nTentative: \t3\nRejected: \t20\nIteration: \t88 / 100\nConfirmed: \t7\nTentative: \t3\nRejected: \t20\nIteration: \t89 / 100\nConfirmed: \t7\nTentative: \t3\nRejected: \t20\nIteration: \t90 / 100\nConfirmed: \t7\nTentative: \t3\nRejected: \t20\nIteration: \t91 / 100\nConfirmed: \t7\nTentative: \t3\nRejected: \t20\nIteration: \t92 / 100\nConfirmed: \t7\nTentative: \t3\nRejected: \t20\nIteration: \t93 / 100\nConfirmed: \t7\nTentative: \t3\nRejected: \t20\nIteration: \t94 / 100\nConfirmed: \t7\nTentative: \t3\nRejected: \t20\nIteration: \t95 / 100\nConfirmed: \t7\nTentative: \t3\nRejected: \t20\nIteration: \t96 / 100\nConfirmed: \t7\nTentative: \t3\nRejected: \t20\nIteration: \t97 / 100\nConfirmed: \t7\nTentative: \t3\nRejected: \t20\nIteration: \t98 / 100\nConfirmed: \t7\nTentative: \t3\nRejected: \t20\nIteration: \t99 / 100\nConfirmed: \t7\nTentative: \t3\nRejected: \t20\n\n\nBorutaPy finished running.\n\nIteration: \t100 / 100\nConfirmed: \t7\nTentative: \t2\nRejected: \t21\n",
          "output_type": "stream"
        },
        {
          "execution_count": 131,
          "output_type": "execute_result",
          "data": {
            "text/plain": "BorutaPy(estimator=XGBClassifier(base_score=None, booster=None, callbacks=None,\n                                 colsample_bylevel=None, colsample_bynode=None,\n                                 colsample_bytree=None, device=None,\n                                 early_stopping_rounds=None,\n                                 enable_categorical=False, eval_metric=None,\n                                 feature_types=None, gamma=None,\n                                 grow_policy=None, importance_type=None,\n                                 interaction_constraints=None,\n                                 learning_rate=None, max_bin=None,\n                                 max_cat_threshold=None, max_cat_to_onehot=None,\n                                 max_delta_step=None, max_depth=None,\n                                 max_leaves=None, min_child_weight=None,\n                                 missing=nan, monotone_constraints=None,\n                                 multi_strategy=None, n_estimators=50,\n                                 n_jobs=None, num_parallel_tree=None,\n                                 random_state=945117914, ...),\n         n_estimators=50, random_state=RandomState(MT19937) at 0x7C735C1CF240,\n         verbose=2)",
            "text/html": "<style>#sk-container-id-5 {color: black;background-color: white;}#sk-container-id-5 pre{padding: 0;}#sk-container-id-5 div.sk-toggleable {background-color: white;}#sk-container-id-5 label.sk-toggleable__label {cursor: pointer;display: block;width: 100%;margin-bottom: 0;padding: 0.3em;box-sizing: border-box;text-align: center;}#sk-container-id-5 label.sk-toggleable__label-arrow:before {content: \"▸\";float: left;margin-right: 0.25em;color: #696969;}#sk-container-id-5 label.sk-toggleable__label-arrow:hover:before {color: black;}#sk-container-id-5 div.sk-estimator:hover label.sk-toggleable__label-arrow:before {color: black;}#sk-container-id-5 div.sk-toggleable__content {max-height: 0;max-width: 0;overflow: hidden;text-align: left;background-color: #f0f8ff;}#sk-container-id-5 div.sk-toggleable__content pre {margin: 0.2em;color: black;border-radius: 0.25em;background-color: #f0f8ff;}#sk-container-id-5 input.sk-toggleable__control:checked~div.sk-toggleable__content {max-height: 200px;max-width: 100%;overflow: auto;}#sk-container-id-5 input.sk-toggleable__control:checked~label.sk-toggleable__label-arrow:before {content: \"▾\";}#sk-container-id-5 div.sk-estimator input.sk-toggleable__control:checked~label.sk-toggleable__label {background-color: #d4ebff;}#sk-container-id-5 div.sk-label input.sk-toggleable__control:checked~label.sk-toggleable__label {background-color: #d4ebff;}#sk-container-id-5 input.sk-hidden--visually {border: 0;clip: rect(1px 1px 1px 1px);clip: rect(1px, 1px, 1px, 1px);height: 1px;margin: -1px;overflow: hidden;padding: 0;position: absolute;width: 1px;}#sk-container-id-5 div.sk-estimator {font-family: monospace;background-color: #f0f8ff;border: 1px dotted black;border-radius: 0.25em;box-sizing: border-box;margin-bottom: 0.5em;}#sk-container-id-5 div.sk-estimator:hover {background-color: #d4ebff;}#sk-container-id-5 div.sk-parallel-item::after {content: \"\";width: 100%;border-bottom: 1px solid gray;flex-grow: 1;}#sk-container-id-5 div.sk-label:hover label.sk-toggleable__label {background-color: #d4ebff;}#sk-container-id-5 div.sk-serial::before {content: \"\";position: absolute;border-left: 1px solid gray;box-sizing: border-box;top: 0;bottom: 0;left: 50%;z-index: 0;}#sk-container-id-5 div.sk-serial {display: flex;flex-direction: column;align-items: center;background-color: white;padding-right: 0.2em;padding-left: 0.2em;position: relative;}#sk-container-id-5 div.sk-item {position: relative;z-index: 1;}#sk-container-id-5 div.sk-parallel {display: flex;align-items: stretch;justify-content: center;background-color: white;position: relative;}#sk-container-id-5 div.sk-item::before, #sk-container-id-5 div.sk-parallel-item::before {content: \"\";position: absolute;border-left: 1px solid gray;box-sizing: border-box;top: 0;bottom: 0;left: 50%;z-index: -1;}#sk-container-id-5 div.sk-parallel-item {display: flex;flex-direction: column;z-index: 1;position: relative;background-color: white;}#sk-container-id-5 div.sk-parallel-item:first-child::after {align-self: flex-end;width: 50%;}#sk-container-id-5 div.sk-parallel-item:last-child::after {align-self: flex-start;width: 50%;}#sk-container-id-5 div.sk-parallel-item:only-child::after {width: 0;}#sk-container-id-5 div.sk-dashed-wrapped {border: 1px dashed gray;margin: 0 0.4em 0.5em 0.4em;box-sizing: border-box;padding-bottom: 0.4em;background-color: white;}#sk-container-id-5 div.sk-label label {font-family: monospace;font-weight: bold;display: inline-block;line-height: 1.2em;}#sk-container-id-5 div.sk-label-container {text-align: center;}#sk-container-id-5 div.sk-container {/* jupyter's `normalize.less` sets `[hidden] { display: none; }` but bootstrap.min.css set `[hidden] { display: none !important; }` so we also need the `!important` here to be able to override the default hidden behavior on the sphinx rendered scikit-learn.org. See: https://github.com/scikit-learn/scikit-learn/issues/21755 */display: inline-block !important;position: relative;}#sk-container-id-5 div.sk-text-repr-fallback {display: none;}</style><div id=\"sk-container-id-5\" class=\"sk-top-container\"><div class=\"sk-text-repr-fallback\"><pre>BorutaPy(estimator=XGBClassifier(base_score=None, booster=None, callbacks=None,\n                                 colsample_bylevel=None, colsample_bynode=None,\n                                 colsample_bytree=None, device=None,\n                                 early_stopping_rounds=None,\n                                 enable_categorical=False, eval_metric=None,\n                                 feature_types=None, gamma=None,\n                                 grow_policy=None, importance_type=None,\n                                 interaction_constraints=None,\n                                 learning_rate=None, max_bin=None,\n                                 max_cat_threshold=None, max_cat_to_onehot=None,\n                                 max_delta_step=None, max_depth=None,\n                                 max_leaves=None, min_child_weight=None,\n                                 missing=nan, monotone_constraints=None,\n                                 multi_strategy=None, n_estimators=50,\n                                 n_jobs=None, num_parallel_tree=None,\n                                 random_state=1325147100, ...),\n         n_estimators=50, random_state=RandomState(MT19937) at 0x7C735C1CF240,\n         verbose=2)</pre><b>In a Jupyter environment, please rerun this cell to show the HTML representation or trust the notebook. <br />On GitHub, the HTML representation is unable to render, please try loading this page with nbviewer.org.</b></div><div class=\"sk-container\" hidden><div class=\"sk-item sk-dashed-wrapped\"><div class=\"sk-label-container\"><div class=\"sk-label sk-toggleable\"><input class=\"sk-toggleable__control sk-hidden--visually\" id=\"sk-estimator-id-11\" type=\"checkbox\" ><label for=\"sk-estimator-id-11\" class=\"sk-toggleable__label sk-toggleable__label-arrow\">BorutaPy</label><div class=\"sk-toggleable__content\"><pre>BorutaPy(estimator=XGBClassifier(base_score=None, booster=None, callbacks=None,\n                                 colsample_bylevel=None, colsample_bynode=None,\n                                 colsample_bytree=None, device=None,\n                                 early_stopping_rounds=None,\n                                 enable_categorical=False, eval_metric=None,\n                                 feature_types=None, gamma=None,\n                                 grow_policy=None, importance_type=None,\n                                 interaction_constraints=None,\n                                 learning_rate=None, max_bin=None,\n                                 max_cat_threshold=None, max_cat_to_onehot=None,\n                                 max_delta_step=None, max_depth=None,\n                                 max_leaves=None, min_child_weight=None,\n                                 missing=nan, monotone_constraints=None,\n                                 multi_strategy=None, n_estimators=50,\n                                 n_jobs=None, num_parallel_tree=None,\n                                 random_state=1325147100, ...),\n         n_estimators=50, random_state=RandomState(MT19937) at 0x7C735C1CF240,\n         verbose=2)</pre></div></div></div><div class=\"sk-parallel\"><div class=\"sk-parallel-item\"><div class=\"sk-item\"><div class=\"sk-label-container\"><div class=\"sk-label sk-toggleable\"><input class=\"sk-toggleable__control sk-hidden--visually\" id=\"sk-estimator-id-12\" type=\"checkbox\" ><label for=\"sk-estimator-id-12\" class=\"sk-toggleable__label sk-toggleable__label-arrow\">estimator: XGBClassifier</label><div class=\"sk-toggleable__content\"><pre>XGBClassifier(base_score=None, booster=None, callbacks=None,\n              colsample_bylevel=None, colsample_bynode=None,\n              colsample_bytree=None, device=None, early_stopping_rounds=None,\n              enable_categorical=False, eval_metric=None, feature_types=None,\n              gamma=None, grow_policy=None, importance_type=None,\n              interaction_constraints=None, learning_rate=None, max_bin=None,\n              max_cat_threshold=None, max_cat_to_onehot=None,\n              max_delta_step=None, max_depth=None, max_leaves=None,\n              min_child_weight=None, missing=nan, monotone_constraints=None,\n              multi_strategy=None, n_estimators=50, n_jobs=None,\n              num_parallel_tree=None, random_state=1598140790, ...)</pre></div></div></div><div class=\"sk-serial\"><div class=\"sk-item\"><div class=\"sk-estimator sk-toggleable\"><input class=\"sk-toggleable__control sk-hidden--visually\" id=\"sk-estimator-id-13\" type=\"checkbox\" ><label for=\"sk-estimator-id-13\" class=\"sk-toggleable__label sk-toggleable__label-arrow\">XGBClassifier</label><div class=\"sk-toggleable__content\"><pre>XGBClassifier(base_score=None, booster=None, callbacks=None,\n              colsample_bylevel=None, colsample_bynode=None,\n              colsample_bytree=None, device=None, early_stopping_rounds=None,\n              enable_categorical=False, eval_metric=None, feature_types=None,\n              gamma=None, grow_policy=None, importance_type=None,\n              interaction_constraints=None, learning_rate=None, max_bin=None,\n              max_cat_threshold=None, max_cat_to_onehot=None,\n              max_delta_step=None, max_depth=None, max_leaves=None,\n              min_child_weight=None, missing=nan, monotone_constraints=None,\n              multi_strategy=None, n_estimators=50, n_jobs=None,\n              num_parallel_tree=None, random_state=1787462933, ...)</pre></div></div></div></div></div></div></div></div></div></div>"
          },
          "metadata": {}
        }
      ]
    },
    {
      "cell_type": "code",
      "source": [],
      "metadata": {
        "execution": {
          "iopub.status.busy": "2024-09-01T12:52:01.704575Z",
          "iopub.execute_input": "2024-09-01T12:52:01.705025Z",
          "iopub.status.idle": "2024-09-01T12:52:01.711813Z",
          "shell.execute_reply.started": "2024-09-01T12:52:01.704986Z",
          "shell.execute_reply": "2024-09-01T12:52:01.710732Z"
        },
        "trusted": true,
        "id": "QzOjCRkLtel9",
        "outputId": "d0e38f8c-107c-4969-e9b7-460d60e35f99"
      },
      "execution_count": null,
      "outputs": [
        {
          "execution_count": 114,
          "output_type": "execute_result",
          "data": {
            "text/plain": "(569, 30)"
          },
          "metadata": {}
        }
      ]
    },
    {
      "cell_type": "code",
      "source": [
        "feature_names= X.columns"
      ],
      "metadata": {
        "execution": {
          "iopub.status.busy": "2024-09-01T13:05:08.442124Z",
          "iopub.execute_input": "2024-09-01T13:05:08.442612Z",
          "iopub.status.idle": "2024-09-01T13:05:08.44838Z",
          "shell.execute_reply.started": "2024-09-01T13:05:08.44257Z",
          "shell.execute_reply": "2024-09-01T13:05:08.447273Z"
        },
        "trusted": true,
        "id": "JHgZjuyttel9"
      },
      "execution_count": null,
      "outputs": []
    },
    {
      "cell_type": "code",
      "source": [
        "dd = pd.DataFrame(feature_ranks, columns=[\"features\", \"rank\", \"bool\"])\n",
        "\n",
        "# Filter the DataFrame to find features with rank 1 and bool == True\n",
        "selected_features = dd[(dd[\"rank\"] == 1) & (dd[\"bool\"] == True)]\n",
        "\n",
        "# Print the selected features\n",
        "print(selected_features[\"features\"].tolist())"
      ],
      "metadata": {
        "execution": {
          "iopub.status.busy": "2024-09-01T13:05:09.884182Z",
          "iopub.execute_input": "2024-09-01T13:05:09.884617Z",
          "iopub.status.idle": "2024-09-01T13:05:09.904218Z",
          "shell.execute_reply.started": "2024-09-01T13:05:09.884578Z",
          "shell.execute_reply": "2024-09-01T13:05:09.902971Z"
        },
        "trusted": true,
        "id": "YJsmQY3Xtel9",
        "outputId": "3dca435c-83ee-460a-f44e-5a1d8bfd16a8"
      },
      "execution_count": null,
      "outputs": [
        {
          "name": "stdout",
          "text": "['concavity_mean', 'concave points_mean', 'radius_worst', 'texture_worst', 'perimeter_worst', 'area_worst', 'concave points_worst']\n",
          "output_type": "stream"
        }
      ]
    },
    {
      "cell_type": "code",
      "source": [
        "column_names = X.columns\n",
        "column_indices =  [ 0, 2, 3, 6, 7, 20, 22, 23, 27]\n",
        "selected_column_names = [column_names[i] for i in column_indices]\n",
        "\n",
        "# Print the result\n",
        "print(\"Selected column names:\", selected_column_names)"
      ],
      "metadata": {
        "execution": {
          "iopub.status.busy": "2024-09-01T13:01:08.867641Z",
          "iopub.execute_input": "2024-09-01T13:01:08.868553Z",
          "iopub.status.idle": "2024-09-01T13:01:08.874414Z",
          "shell.execute_reply.started": "2024-09-01T13:01:08.868511Z",
          "shell.execute_reply": "2024-09-01T13:01:08.87311Z"
        },
        "trusted": true,
        "id": "xI4nhPCWtel-",
        "outputId": "a6eeecb0-a2bd-4e99-f6e1-19590e1739f1"
      },
      "execution_count": null,
      "outputs": [
        {
          "name": "stdout",
          "text": "Selected column names: ['radius_mean', 'perimeter_mean', 'area_mean', 'concavity_mean', 'concave points_mean', 'radius_worst', 'perimeter_worst', 'area_worst', 'concave points_worst']\n",
          "output_type": "stream"
        }
      ]
    },
    {
      "cell_type": "code",
      "source": [
        "X_train_filtered= feat_selector.transform(X_train)\n",
        "X_test_filtered= feat_selector.transform(X_test)"
      ],
      "metadata": {
        "execution": {
          "iopub.status.busy": "2024-09-01T13:07:43.514834Z",
          "iopub.execute_input": "2024-09-01T13:07:43.515312Z",
          "iopub.status.idle": "2024-09-01T13:07:43.520798Z",
          "shell.execute_reply.started": "2024-09-01T13:07:43.515272Z",
          "shell.execute_reply": "2024-09-01T13:07:43.519696Z"
        },
        "trusted": true,
        "id": "_ee-jeWytel-"
      },
      "execution_count": null,
      "outputs": []
    },
    {
      "cell_type": "code",
      "source": [
        "xgb_model= xgb.XGBClassifier()\n",
        "xgb_model.fit(X_train_filtered, Y_train)\n",
        "p_pred= xgb_model.predict(X_test_filtered)\n",
        "accuracy_score(Y_test, p_pred)"
      ],
      "metadata": {
        "execution": {
          "iopub.status.busy": "2024-09-01T13:08:32.009552Z",
          "iopub.execute_input": "2024-09-01T13:08:32.009973Z",
          "iopub.status.idle": "2024-09-01T13:08:32.063866Z",
          "shell.execute_reply.started": "2024-09-01T13:08:32.009935Z",
          "shell.execute_reply": "2024-09-01T13:08:32.062784Z"
        },
        "trusted": true,
        "id": "SdOPGv2Htel-",
        "outputId": "9c9dee73-51c8-48e3-b891-0ccfc678754d"
      },
      "execution_count": null,
      "outputs": [
        {
          "execution_count": 137,
          "output_type": "execute_result",
          "data": {
            "text/plain": "0.958041958041958"
          },
          "metadata": {}
        }
      ]
    },
    {
      "cell_type": "code",
      "source": [
        "from sklearn.metrics import confusion_matrix\n",
        "cm= confusion_matrix(Y_test, p_pred)\n",
        "import seaborn as sns\n",
        "sns.heatmap(cm ,annot=True)"
      ],
      "metadata": {
        "execution": {
          "iopub.status.busy": "2024-09-01T13:10:04.784326Z",
          "iopub.execute_input": "2024-09-01T13:10:04.784791Z",
          "iopub.status.idle": "2024-09-01T13:10:05.362318Z",
          "shell.execute_reply.started": "2024-09-01T13:10:04.784751Z",
          "shell.execute_reply": "2024-09-01T13:10:05.361184Z"
        },
        "trusted": true,
        "id": "ZWdG7imjtel_",
        "outputId": "3dfa2b5d-11b4-4ab6-c934-7199e8f66ceb"
      },
      "execution_count": null,
      "outputs": [
        {
          "execution_count": 140,
          "output_type": "execute_result",
          "data": {
            "text/plain": "<Axes: >"
          },
          "metadata": {}
        },
        {
          "output_type": "display_data",
          "data": {
            "text/plain": "<Figure size 640x480 with 2 Axes>",
            "image/png": "[encoded data removed]"
          },
          "metadata": {}
        }
      ]
    },
    {
      "cell_type": "markdown",
      "source": [
        "concavity_mean, concave points_mean, radius_worst, texture_worst, perimeter_worst, area_worst, concave points_worst\n",
        "'radius_mean', 'perimeter_mean', 'area_mean', 'concavity_mean', 'concave points_mean', 'radius_worst', 'perimeter_worst', 'area_worst', 'concave points_worst'"
      ],
      "metadata": {
        "id": "Dx9uWXSXtemA"
      }
    }
  ]
}