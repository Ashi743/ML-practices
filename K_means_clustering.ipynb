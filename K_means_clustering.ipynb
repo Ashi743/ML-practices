{
  "nbformat": 4,
  "nbformat_minor": 0,
  "metadata": {
    "colab": {
      "provenance": [],
      "authorship_tag": "ABX9TyMUHHfcV36v1aKA2Z40+hXK",
      "include_colab_link": true
    },
    "kernelspec": {
      "name": "python3",
      "display_name": "Python 3"
    },
    "language_info": {
      "name": "python"
    }
  },
  "cells": [
    {
      "cell_type": "markdown",
      "metadata": {
        "id": "view-in-github",
        "colab_type": "text"
      },
      "source": [
        "<a href=\"https://colab.research.google.com/github/Ashi743/ML-practices/blob/main/K_means_clustering.ipynb\" target=\"_parent\"><img src=\"https://colab.research.google.com/assets/colab-badge.svg\" alt=\"Open In Colab\"/></a>"
      ]
    },
    {
      "cell_type": "code",
      "execution_count": 2,
      "metadata": {
        "id": "Yhu-8_yUCO5g"
      },
      "outputs": [],
      "source": [
        "from sklearn.datasets import make_blobs\n",
        "from sklearn.cluster import KMeans\n",
        "import matplotlib.pyplot as plt\n",
        "import numpy as np"
      ]
    },
    {
      "cell_type": "code",
      "source": [
        "centroids= [(-5,-5), (5,5), (-2.5,2.5)]\n",
        "cluster_std=  [1,1,1]"
      ],
      "metadata": {
        "id": "XpixEGa2CUaL"
      },
      "execution_count": 112,
      "outputs": []
    },
    {
      "cell_type": "code",
      "source": [
        "x,y= make_blobs(n_samples=100, centers=centroids,\n",
        "                cluster_std=cluster_std, random_state=2)"
      ],
      "metadata": {
        "id": "rpDhzLLnCUdg"
      },
      "execution_count": 113,
      "outputs": []
    },
    {
      "cell_type": "code",
      "source": [
        "plt.scatter(x[:,0], x[:,1])\n",
        "plt.show()"
      ],
      "metadata": {
        "colab": {
          "base_uri": "https://localhost:8080/",
          "height": 430
        },
        "id": "TXv7SbCDCUgX",
        "outputId": "cecc2243-3a58-424e-d879-da15de52b77b"
      },
      "execution_count": 114,
      "outputs": [
        {
          "output_type": "display_data",
          "data": {
            "text/plain": [
              "<Figure size 640x480 with 1 Axes>"
            ],
            "image/png": "[encoded data removed]"
          },
          "metadata": {}
        }
      ]
    },
    {
      "cell_type": "code",
      "source": [
        "import random\n",
        "class Kmean:\n",
        "  def __init__(self, k=2, max_iter=100):\n",
        "    self.k=k\n",
        "    self.max_iter=max_iter\n",
        "    self.centroids= None\n",
        "\n",
        "  def fit(self, X):\n",
        "    row_random_idx= random.sample(range(0, X.shape[0]) , self.k )\n",
        "    print(row_random_idx)\n",
        "    self.centroids= X[row_random_idx]\n",
        "\n",
        "    for  i in range(self.max_iter):\n",
        "      cluster_group = self.assign_clusters(X)\n",
        "      #move centroids\n",
        "      old_centroids= self.centroids\n",
        "      self.centoids= self.move_centroids(X, cluster_group)\n",
        "\n",
        "\n",
        "      #finish\n",
        "      if np.array_equal(old_centroids, self.centroids):\n",
        "        break\n",
        "    return cluster_group\n",
        "\n",
        "\n",
        "\n",
        "\n",
        "\n",
        "  def assign_clusters(self, X):\n",
        "    cluster_group= []\n",
        "    distances= []\n",
        "    for  row in X:\n",
        "      for  centroid in self.centroids:\n",
        "        distance= np.sqrt(np.dot(row-centroid, row-centroid))\n",
        "        distances.append(distance)\n",
        "      min_distance= min(distances)\n",
        "      index_pos= distances.index(min_distance)\n",
        "\n",
        "      cluster_group.append(index_pos)\n",
        "      distances.clear()\n",
        "\n",
        "    return np.array(cluster_group)\n",
        "\n",
        "  def move_centroids(self,X,cluster_group):\n",
        "    new_centroids= []\n",
        "    cluster_type= np.unique(cluster_group)\n",
        "    for  type in cluster_type:\n",
        "      new_centroids.append(X[cluster_group==type].mean(axis=0))\n",
        "    return np.array(new_centroids)\n",
        "\n",
        "\n",
        "\n",
        "\n",
        "\n",
        "  def predict(self, X):\n",
        "    centroids= self.centroids"
      ],
      "metadata": {
        "id": "Ysh2oBx4CUi4"
      },
      "execution_count": 120,
      "outputs": []
    },
    {
      "cell_type": "code",
      "source": [
        "a=np.array([[1,2],[2,3],[3,4],[4,5],[5,6]])\n",
        "print(a)\n",
        "print()\n",
        "b=np.array([1,0,0,1,0])\n",
        "cluster_type= np.unique(b)\n",
        "print(cluster_type)\n",
        "print()\n",
        "for  type in cluster_type:\n",
        "  print(a[b==type].mean())               #23/6->0    12/4\n",
        "  print(a[b==type].mean(axis=1))         #5/2 7/2 11/2 ...\n",
        "  print()"
      ],
      "metadata": {
        "colab": {
          "base_uri": "https://localhost:8080/"
        },
        "id": "WffPk5Pzgjhu",
        "outputId": "272ec637-8aea-4427-b086-566d28678f8d"
      },
      "execution_count": 84,
      "outputs": [
        {
          "output_type": "stream",
          "name": "stdout",
          "text": [
            "[[1 2]\n",
            " [2 3]\n",
            " [3 4]\n",
            " [4 5]\n",
            " [5 6]]\n",
            "\n",
            "[0 1]\n",
            "\n",
            "3.8333333333333335\n",
            "[2.5 3.5 5.5]\n",
            "\n",
            "3.0\n",
            "[1.5 4.5]\n",
            "\n"
          ]
        }
      ]
    },
    {
      "cell_type": "code",
      "source": [
        "print(np.sum(a, axis= 1))\n",
        "print(np.sum(a, axis= 0))"
      ],
      "metadata": {
        "colab": {
          "base_uri": "https://localhost:8080/"
        },
        "id": "4X5_TPvKhcKI",
        "outputId": "e1be243d-f571-40b0-d251-1e984c9dc8be"
      },
      "execution_count": 86,
      "outputs": [
        {
          "output_type": "stream",
          "name": "stdout",
          "text": [
            "[ 3  5  7  9 11]\n",
            "[15 20]\n"
          ]
        }
      ]
    },
    {
      "cell_type": "code",
      "source": [
        "kmeans= Kmean(k=3, max_iter=1)\n",
        "y_means =kmeans.fit(x)"
      ],
      "metadata": {
        "colab": {
          "base_uri": "https://localhost:8080/"
        },
        "id": "M3Oxwc7TCUla",
        "outputId": "9642d058-2399-4d78-9d0b-ed7ff5bb51b2"
      },
      "execution_count": 121,
      "outputs": [
        {
          "output_type": "stream",
          "name": "stdout",
          "text": [
            "[29, 26, 50]\n"
          ]
        }
      ]
    },
    {
      "cell_type": "code",
      "source": [
        "\n",
        "#plt.scatter(x[:,0], x[:,1])\n",
        "plt.scatter(x[y_means==0,0], x[y_means==0,1], color='red')\n",
        "plt.scatter(x[y_means==1,0], x[y_means==1,1], color='blue')\n",
        "plt.scatter(x[y_means==2,0], x[y_means==2,1], color='black')\n",
        "plt.show()"
      ],
      "metadata": {
        "colab": {
          "base_uri": "https://localhost:8080/",
          "height": 430
        },
        "id": "O9CgaxpJjXeH",
        "outputId": "7cebc279-e7ed-4246-91b7-5c8e64b944f4"
      },
      "execution_count": 122,
      "outputs": [
        {
          "output_type": "display_data",
          "data": {
            "text/plain": [
              "<Figure size 640x480 with 1 Axes>"
            ],
            "image/png": "[encoded data removed]"
          },
          "metadata": {}
        }
      ]
    },
    {
      "cell_type": "code",
      "source": [],
      "metadata": {
        "id": "9kHl_9DEjXao"
      },
      "execution_count": null,
      "outputs": []
    },
    {
      "cell_type": "code",
      "source": [
        "\n",
        "def assign_clusters(self, X):\n",
        "  cluster_group= np.zeros(X.shape[0])\n",
        "  distances= []\n",
        "  for  row in X:\n",
        "    for  centroid in self.centroids:\n",
        "      distance= np.sqrt(np.dot(row-centroid, row-centroid))\n",
        "      distances.append(distance)\n",
        "    min_distance= min(distances)\n",
        "    index_pos= distances.index(min_distance)\n",
        "    print(index_pos)\n",
        "\n",
        "    distances.clear()\n",
        "\n",
        "  return cluster_group\n",
        "\n"
      ],
      "metadata": {
        "id": "WHn9GpuCHmwI"
      },
      "execution_count": 54,
      "outputs": []
    },
    {
      "cell_type": "code",
      "source": [
        "\n",
        "plt.scatter(x[:,0], x[:,1])\n",
        "plt.scatter(kmeans.fit(x), kmeans.fit(x), color='red')\n",
        "plt.show()"
      ],
      "metadata": {
        "id": "7dV145iwCUoN"
      },
      "execution_count": null,
      "outputs": []
    },
    {
      "cell_type": "code",
      "source": [
        "import numpy as np\n",
        "a= np.array([1])\n",
        "b= np.array([4])\n",
        "c= b-a\n",
        "print(c)\n",
        "np.dot(c,c)"
      ],
      "metadata": {
        "colab": {
          "base_uri": "https://localhost:8080/"
        },
        "id": "ZbBojcImCUqk",
        "outputId": "eb04025f-4a23-4c53-8d5b-e38a8d0ada20"
      },
      "execution_count": 40,
      "outputs": [
        {
          "output_type": "stream",
          "name": "stdout",
          "text": [
            "[3]\n"
          ]
        },
        {
          "output_type": "execute_result",
          "data": {
            "text/plain": [
              "9"
            ]
          },
          "metadata": {},
          "execution_count": 40
        }
      ]
    },
    {
      "cell_type": "code",
      "source": [
        "a= np.array([1,5])\n",
        "b= np.array([4,8])\n",
        "c= b-a\n",
        "print(c)\n",
        "np.dot(c,c)"
      ],
      "metadata": {
        "colab": {
          "base_uri": "https://localhost:8080/"
        },
        "id": "RuDpVA2UCUtN",
        "outputId": "bb2657d3-58e1-4ad7-9798-3c4e707c1120"
      },
      "execution_count": 42,
      "outputs": [
        {
          "output_type": "stream",
          "name": "stdout",
          "text": [
            "[3 3]\n"
          ]
        },
        {
          "output_type": "execute_result",
          "data": {
            "text/plain": [
              "18"
            ]
          },
          "metadata": {},
          "execution_count": 42
        }
      ]
    },
    {
      "cell_type": "code",
      "source": [],
      "metadata": {
        "id": "SYk2yFBVCUv5"
      },
      "execution_count": null,
      "outputs": []
    },
    {
      "cell_type": "code",
      "source": [
        "#elow method\n",
        "def elbow(x, k):\n",
        "    sum_of_squared_distances = []\n",
        "    K = range(1,k)\n",
        "    for k in K:\n",
        "        km = KMeans(n_clusters=k)\n",
        "        km = km.fit(x)\n",
        "        sum_of_squared_distances.append(km.inertia_)\n",
        "\n",
        "    plt.plot(K, sum_of_squared_distances, 'bx-')\n",
        "    plt.xlabel('k')\n",
        "    plt.ylabel('sum_of_squared_distances')\n",
        "    plt.title('Elbow Method For Optimal k')\n",
        "    plt.show()\n",
        "\n",
        "elbow(x, 10)"
      ],
      "metadata": {
        "colab": {
          "base_uri": "https://localhost:8080/",
          "height": 804
        },
        "id": "P-_qd6oVCUyZ",
        "outputId": "47d53212-8ae7-4079-c6cf-d122ebbcadee"
      },
      "execution_count": 124,
      "outputs": [
        {
          "output_type": "stream",
          "name": "stderr",
          "text": [
            "/usr/local/lib/python3.10/dist-packages/sklearn/cluster/_kmeans.py:1416: FutureWarning: The default value of `n_init` will change from 10 to 'auto' in 1.4. Set the value of `n_init` explicitly to suppress the warning\n",
            "  super()._check_params_vs_input(X, default_n_init=10)\n",
            "/usr/local/lib/python3.10/dist-packages/sklearn/cluster/_kmeans.py:1416: FutureWarning: The default value of `n_init` will change from 10 to 'auto' in 1.4. Set the value of `n_init` explicitly to suppress the warning\n",
            "  super()._check_params_vs_input(X, default_n_init=10)\n",
            "/usr/local/lib/python3.10/dist-packages/sklearn/cluster/_kmeans.py:1416: FutureWarning: The default value of `n_init` will change from 10 to 'auto' in 1.4. Set the value of `n_init` explicitly to suppress the warning\n",
            "  super()._check_params_vs_input(X, default_n_init=10)\n",
            "/usr/local/lib/python3.10/dist-packages/sklearn/cluster/_kmeans.py:1416: FutureWarning: The default value of `n_init` will change from 10 to 'auto' in 1.4. Set the value of `n_init` explicitly to suppress the warning\n",
            "  super()._check_params_vs_input(X, default_n_init=10)\n",
            "/usr/local/lib/python3.10/dist-packages/sklearn/cluster/_kmeans.py:1416: FutureWarning: The default value of `n_init` will change from 10 to 'auto' in 1.4. Set the value of `n_init` explicitly to suppress the warning\n",
            "  super()._check_params_vs_input(X, default_n_init=10)\n",
            "/usr/local/lib/python3.10/dist-packages/sklearn/cluster/_kmeans.py:1416: FutureWarning: The default value of `n_init` will change from 10 to 'auto' in 1.4. Set the value of `n_init` explicitly to suppress the warning\n",
            "  super()._check_params_vs_input(X, default_n_init=10)\n",
            "/usr/local/lib/python3.10/dist-packages/sklearn/cluster/_kmeans.py:1416: FutureWarning: The default value of `n_init` will change from 10 to 'auto' in 1.4. Set the value of `n_init` explicitly to suppress the warning\n",
            "  super()._check_params_vs_input(X, default_n_init=10)\n",
            "/usr/local/lib/python3.10/dist-packages/sklearn/cluster/_kmeans.py:1416: FutureWarning: The default value of `n_init` will change from 10 to 'auto' in 1.4. Set the value of `n_init` explicitly to suppress the warning\n",
            "  super()._check_params_vs_input(X, default_n_init=10)\n",
            "/usr/local/lib/python3.10/dist-packages/sklearn/cluster/_kmeans.py:1416: FutureWarning: The default value of `n_init` will change from 10 to 'auto' in 1.4. Set the value of `n_init` explicitly to suppress the warning\n",
            "  super()._check_params_vs_input(X, default_n_init=10)\n"
          ]
        },
        {
          "output_type": "display_data",
          "data": {
            "text/plain": [
              "<Figure size 640x480 with 1 Axes>"
            ],
            "image/png": "[encoded data removed]"
          },
          "metadata": {}
        }
      ]
    },
    {
      "cell_type": "code",
      "source": [],
      "metadata": {
        "id": "4v7EeMmdCU3j"
      },
      "execution_count": null,
      "outputs": []
    },
    {
      "cell_type": "code",
      "source": [],
      "metadata": {
        "id": "JZi1pGadCU6I"
      },
      "execution_count": null,
      "outputs": []
    }
  ]
}