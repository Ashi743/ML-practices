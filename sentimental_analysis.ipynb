{
  "metadata": {
    "kernelspec": {
      "language": "python",
      "display_name": "Python 3",
      "name": "python3"
    },
    "language_info": {
      "name": "python",
      "version": "3.10.13",
      "mimetype": "text/x-python",
      "codemirror_mode": {
        "name": "ipython",
        "version": 3
      },
      "pygments_lexer": "ipython3",
      "nbconvert_exporter": "python",
      "file_extension": ".py"
    },
    "kaggle": {
      "accelerator": "none",
      "dataSources": [
        {
          "sourceId": 320111,
          "sourceType": "datasetVersion",
          "datasetId": 134715
        }
      ],
      "dockerImageVersionId": 30746,
      "isInternetEnabled": true,
      "language": "python",
      "sourceType": "notebook",
      "isGpuEnabled": false
    },
    "colab": {
      "provenance": [],
      "include_colab_link": true
    }
  },
  "nbformat_minor": 0,
  "nbformat": 4,
  "cells": [
    {
      "cell_type": "markdown",
      "metadata": {
        "id": "view-in-github",
        "colab_type": "text"
      },
      "source": [
        "<a href=\"https://colab.research.google.com/github/Ashi743/ML-practices/blob/main/sentimental_analysis.ipynb\" target=\"_parent\"><img src=\"https://colab.research.google.com/assets/colab-badge.svg\" alt=\"Open In Colab\"/></a>"
      ]
    },
    {
      "cell_type": "code",
      "source": [
        "# This Python 3 environment comes with many helpful analytics libraries installed\n",
        "# It is defined by the kaggle/python Docker image: https://github.com/kaggle/docker-python\n",
        "# For example, here's several helpful packages to load\n",
        "\n",
        "import numpy as np # linear algebra\n",
        "import pandas as pd # data processing, CSV file I/O (e.g. pd.read_csv)\n",
        "\n",
        "# Input data files are available in the read-only \"../input/\" directory\n",
        "# For example, running this (by clicking run or pressing Shift+Enter) will list all files under the input directory\n",
        "\n",
        "import os\n",
        "for dirname, _, filenames in os.walk('/kaggle/input'):\n",
        "    for filename in filenames:\n",
        "        print(os.path.join(dirname, filename))\n",
        "\n",
        "# You can write up to 20GB to the current directory (/kaggle/working/) that gets preserved as output when you create a version using \"Save & Run All\"\n",
        "# You can also write temporary files to /kaggle/temp/, but they won't be saved outside of the current session"
      ],
      "metadata": {
        "_uuid": "8f2839f25d086af736a60e9eeb907d3b93b6e0e5",
        "_cell_guid": "b1076dfc-b9ad-4769-8c92-a6c4dae69d19",
        "execution": {
          "iopub.status.busy": "2024-07-23T07:51:01.079060Z",
          "iopub.execute_input": "2024-07-23T07:51:01.079442Z",
          "iopub.status.idle": "2024-07-23T07:51:02.445644Z",
          "shell.execute_reply.started": "2024-07-23T07:51:01.079413Z",
          "shell.execute_reply": "2024-07-23T07:51:02.444141Z"
        },
        "trusted": true,
        "id": "vcbiqdjL4_xm",
        "outputId": "b0539f83-56ca-401e-d8d4-89fc01dbe3fc"
      },
      "execution_count": null,
      "outputs": [
        {
          "name": "stdout",
          "text": "/kaggle/input/imdb-dataset-of-50k-movie-reviews/IMDB Dataset.csv\n",
          "output_type": "stream"
        }
      ]
    },
    {
      "cell_type": "code",
      "source": [
        "import pandas as pd\n",
        "import numpy as np\n"
      ],
      "metadata": {
        "execution": {
          "iopub.status.busy": "2024-07-23T07:51:30.284061Z",
          "iopub.execute_input": "2024-07-23T07:51:30.284609Z",
          "iopub.status.idle": "2024-07-23T07:51:30.290583Z",
          "shell.execute_reply.started": "2024-07-23T07:51:30.284574Z",
          "shell.execute_reply": "2024-07-23T07:51:30.289381Z"
        },
        "trusted": true,
        "id": "raqrbVS64_x0"
      },
      "execution_count": null,
      "outputs": []
    },
    {
      "cell_type": "code",
      "source": [
        "df= pd.read_csv(\"/kaggle/input/imdb-dataset-of-50k-movie-reviews/IMDB Dataset.csv\")\n",
        "df.head()"
      ],
      "metadata": {
        "execution": {
          "iopub.status.busy": "2024-07-23T07:54:11.384343Z",
          "iopub.execute_input": "2024-07-23T07:54:11.384789Z",
          "iopub.status.idle": "2024-07-23T07:54:12.177941Z",
          "shell.execute_reply.started": "2024-07-23T07:54:11.384737Z",
          "shell.execute_reply": "2024-07-23T07:54:12.176697Z"
        },
        "trusted": true,
        "id": "Jqfj7Y464_x2",
        "outputId": "1a67afdf-f253-4622-ed15-6c49f5de11f6"
      },
      "execution_count": null,
      "outputs": [
        {
          "execution_count": 8,
          "output_type": "execute_result",
          "data": {
            "text/plain": "                                              review sentiment\n0  One of the other reviewers has mentioned that ...  positive\n1  A wonderful little production. <br /><br />The...  positive\n2  I thought this was a wonderful way to spend ti...  positive\n3  Basically there's a family where a little boy ...  negative\n4  Petter Mattei's \"Love in the Time of Money\" is...  positive",
            "text/html": "<div>\n<style scoped>\n    .dataframe tbody tr th:only-of-type {\n        vertical-align: middle;\n    }\n\n    .dataframe tbody tr th {\n        vertical-align: top;\n    }\n\n    .dataframe thead th {\n        text-align: right;\n    }\n</style>\n<table border=\"1\" class=\"dataframe\">\n  <thead>\n    <tr style=\"text-align: right;\">\n      <th></th>\n      <th>review</th>\n      <th>sentiment</th>\n    </tr>\n  </thead>\n  <tbody>\n    <tr>\n      <th>0</th>\n      <td>One of the other reviewers has mentioned that ...</td>\n      <td>positive</td>\n    </tr>\n    <tr>\n      <th>1</th>\n      <td>A wonderful little production. &lt;br /&gt;&lt;br /&gt;The...</td>\n      <td>positive</td>\n    </tr>\n    <tr>\n      <th>2</th>\n      <td>I thought this was a wonderful way to spend ti...</td>\n      <td>positive</td>\n    </tr>\n    <tr>\n      <th>3</th>\n      <td>Basically there's a family where a little boy ...</td>\n      <td>negative</td>\n    </tr>\n    <tr>\n      <th>4</th>\n      <td>Petter Mattei's \"Love in the Time of Money\" is...</td>\n      <td>positive</td>\n    </tr>\n  </tbody>\n</table>\n</div>"
          },
          "metadata": {}
        }
      ]
    },
    {
      "cell_type": "code",
      "source": [
        "df[\"review\"][0]"
      ],
      "metadata": {
        "execution": {
          "iopub.status.busy": "2024-07-23T07:54:14.836707Z",
          "iopub.execute_input": "2024-07-23T07:54:14.837181Z",
          "iopub.status.idle": "2024-07-23T07:54:14.845768Z",
          "shell.execute_reply.started": "2024-07-23T07:54:14.837147Z",
          "shell.execute_reply": "2024-07-23T07:54:14.844530Z"
        },
        "trusted": true,
        "id": "qmHUEfbf4_x4",
        "outputId": "630703e1-8332-4a06-bb8e-46f79bf77918"
      },
      "execution_count": null,
      "outputs": [
        {
          "execution_count": 9,
          "output_type": "execute_result",
          "data": {
            "text/plain": "\"One of the other reviewers has mentioned that after watching just 1 Oz episode you'll be hooked. They are right, as this is exactly what happened with me.<br /><br />The first thing that struck me about Oz was its brutality and unflinching scenes of violence, which set in right from the word GO. Trust me, this is not a show for the faint hearted or timid. This show pulls no punches with regards to drugs, sex or violence. Its is hardcore, in the classic use of the word.<br /><br />It is called OZ as that is the nickname given to the Oswald Maximum Security State Penitentary. It focuses mainly on Emerald City, an experimental section of the prison where all the cells have glass fronts and face inwards, so privacy is not high on the agenda. Em City is home to many..Aryans, Muslims, gangstas, Latinos, Christians, Italians, Irish and more....so scuffles, death stares, dodgy dealings and shady agreements are never far away.<br /><br />I would say the main appeal of the show is due to the fact that it goes where other shows wouldn't dare. Forget pretty pictures painted for mainstream audiences, forget charm, forget romance...OZ doesn't mess around. The first episode I ever saw struck me as so nasty it was surreal, I couldn't say I was ready for it, but as I watched more, I developed a taste for Oz, and got accustomed to the high levels of graphic violence. Not just violence, but injustice (crooked guards who'll be sold out for a nickel, inmates who'll kill on order and get away with it, well mannered, middle class inmates being turned into prison bitches due to their lack of street skills or prison experience) Watching Oz, you may become comfortable with what is uncomfortable viewing....thats if you can get in touch with your darker side.\""
          },
          "metadata": {}
        }
      ]
    },
    {
      "cell_type": "code",
      "source": [
        "df1= df.sample(10000)"
      ],
      "metadata": {
        "execution": {
          "iopub.status.busy": "2024-07-23T07:56:44.636075Z",
          "iopub.execute_input": "2024-07-23T07:56:44.636503Z",
          "iopub.status.idle": "2024-07-23T07:56:44.646270Z",
          "shell.execute_reply.started": "2024-07-23T07:56:44.636468Z",
          "shell.execute_reply": "2024-07-23T07:56:44.644921Z"
        },
        "trusted": true,
        "id": "tRGeyShX4_x9"
      },
      "execution_count": null,
      "outputs": []
    },
    {
      "cell_type": "code",
      "source": [
        "df1[\"sentiment\"].replace({'positive':1, 'negative':0}, inplace=True)"
      ],
      "metadata": {
        "execution": {
          "iopub.status.busy": "2024-07-23T07:57:03.775787Z",
          "iopub.execute_input": "2024-07-23T07:57:03.776203Z",
          "iopub.status.idle": "2024-07-23T07:57:03.792226Z",
          "shell.execute_reply.started": "2024-07-23T07:57:03.776164Z",
          "shell.execute_reply": "2024-07-23T07:57:03.790969Z"
        },
        "trusted": true,
        "id": "pa6KP4OZ4_x_",
        "outputId": "fa193f72-7d0a-4806-9cef-c47f9cfd0b88"
      },
      "execution_count": null,
      "outputs": [
        {
          "name": "stderr",
          "text": "/tmp/ipykernel_33/1632599795.py:1: FutureWarning: A value is trying to be set on a copy of a DataFrame or Series through chained assignment using an inplace method.\nThe behavior will change in pandas 3.0. This inplace method will never work because the intermediate object on which we are setting values always behaves as a copy.\n\nFor example, when doing 'df[col].method(value, inplace=True)', try using 'df.method({col: value}, inplace=True)' or df[col] = df[col].method(value) instead, to perform the operation inplace on the original object.\n\n\n  df1[\"sentiment\"].replace({'positive':1, 'negative':0}, inplace=True)\n/tmp/ipykernel_33/1632599795.py:1: FutureWarning: Downcasting behavior in `replace` is deprecated and will be removed in a future version. To retain the old behavior, explicitly call `result.infer_objects(copy=False)`. To opt-in to the future behavior, set `pd.set_option('future.no_silent_downcasting', True)`\n  df1[\"sentiment\"].replace({'positive':1, 'negative':0}, inplace=True)\n",
          "output_type": "stream"
        }
      ]
    },
    {
      "cell_type": "code",
      "source": [
        "df1.head()"
      ],
      "metadata": {
        "execution": {
          "iopub.status.busy": "2024-07-23T07:57:07.448910Z",
          "iopub.execute_input": "2024-07-23T07:57:07.449368Z",
          "iopub.status.idle": "2024-07-23T07:57:07.461607Z",
          "shell.execute_reply.started": "2024-07-23T07:57:07.449334Z",
          "shell.execute_reply": "2024-07-23T07:57:07.460131Z"
        },
        "trusted": true,
        "id": "vwqinj9c4_yB",
        "outputId": "fb05c1af-34dc-45b6-9c71-7b09b77c295d"
      },
      "execution_count": null,
      "outputs": [
        {
          "execution_count": 17,
          "output_type": "execute_result",
          "data": {
            "text/plain": "                                                  review  sentiment\n23855  Anna (Charlotte Burke), who is just on the ver...          1\n12146  In this documentary we meet Roger, the rich ma...          1\n32276  Junior and his dad start a new life in a new t...          0\n3616   A group of tourists are stranded on Snake Isla...          0\n43349  This is my favorite Mel Brooks movie because i...          1",
            "text/html": "<div>\n<style scoped>\n    .dataframe tbody tr th:only-of-type {\n        vertical-align: middle;\n    }\n\n    .dataframe tbody tr th {\n        vertical-align: top;\n    }\n\n    .dataframe thead th {\n        text-align: right;\n    }\n</style>\n<table border=\"1\" class=\"dataframe\">\n  <thead>\n    <tr style=\"text-align: right;\">\n      <th></th>\n      <th>review</th>\n      <th>sentiment</th>\n    </tr>\n  </thead>\n  <tbody>\n    <tr>\n      <th>23855</th>\n      <td>Anna (Charlotte Burke), who is just on the ver...</td>\n      <td>1</td>\n    </tr>\n    <tr>\n      <th>12146</th>\n      <td>In this documentary we meet Roger, the rich ma...</td>\n      <td>1</td>\n    </tr>\n    <tr>\n      <th>32276</th>\n      <td>Junior and his dad start a new life in a new t...</td>\n      <td>0</td>\n    </tr>\n    <tr>\n      <th>3616</th>\n      <td>A group of tourists are stranded on Snake Isla...</td>\n      <td>0</td>\n    </tr>\n    <tr>\n      <th>43349</th>\n      <td>This is my favorite Mel Brooks movie because i...</td>\n      <td>1</td>\n    </tr>\n  </tbody>\n</table>\n</div>"
          },
          "metadata": {}
        }
      ]
    },
    {
      "cell_type": "code",
      "source": [
        " #html re\n",
        "import re\n",
        "pattern = '<.*?>'\n",
        "html= re.compile(pattern)\n",
        "re.sub(html, \"\", df.iloc[2].review)"
      ],
      "metadata": {
        "execution": {
          "iopub.status.busy": "2024-07-23T08:10:45.084619Z",
          "iopub.execute_input": "2024-07-23T08:10:45.085149Z",
          "iopub.status.idle": "2024-07-23T08:10:45.097427Z",
          "shell.execute_reply.started": "2024-07-23T08:10:45.085109Z",
          "shell.execute_reply": "2024-07-23T08:10:45.095964Z"
        },
        "trusted": true,
        "id": "Dv8A-rP44_yF",
        "outputId": "df27bb0a-a2bf-416a-96cd-8f0efb7ba172"
      },
      "execution_count": null,
      "outputs": [
        {
          "execution_count": 20,
          "output_type": "execute_result",
          "data": {
            "text/plain": "'I thought this was a wonderful way to spend time on a too hot summer weekend, sitting in the air conditioned theater and watching a light-hearted comedy. The plot is simplistic, but the dialogue is witty and the characters are likable (even the well bread suspected serial killer). While some may be disappointed when they realize this is not Match Point 2: Risk Addiction, I thought it was proof that Woody Allen is still fully in control of the style many of us have grown to love.This was the most I\\'d laughed at one of Woody\\'s comedies in years (dare I say a decade?). While I\\'ve never been impressed with Scarlet Johanson, in this she managed to tone down her \"sexy\" image and jumped right into a average, but spirited young woman.This may not be the crown jewel of his career, but it was wittier than \"Devil Wears Prada\" and more interesting than \"Superman\" a great comedy to go see with friends.'"
          },
          "metadata": {}
        }
      ]
    },
    {
      "cell_type": "code",
      "source": [
        "punctuation_pattern = re.compile(r'[,.!?]')\n",
        "re.sub(punctuation_pattern, \"\", df.iloc[2].review)"
      ],
      "metadata": {
        "execution": {
          "iopub.status.busy": "2024-07-23T08:12:25.287602Z",
          "iopub.execute_input": "2024-07-23T08:12:25.288069Z",
          "iopub.status.idle": "2024-07-23T08:12:25.297216Z",
          "shell.execute_reply.started": "2024-07-23T08:12:25.288031Z",
          "shell.execute_reply": "2024-07-23T08:12:25.295649Z"
        },
        "trusted": true,
        "id": "2IRlmtGQ4_yI",
        "outputId": "06265863-f224-40ee-9e27-d44ac413ba5b"
      },
      "execution_count": null,
      "outputs": [
        {
          "execution_count": 23,
          "output_type": "execute_result",
          "data": {
            "text/plain": "'I thought this was a wonderful way to spend time on a too hot summer weekend sitting in the air conditioned theater and watching a light-hearted comedy The plot is simplistic but the dialogue is witty and the characters are likable (even the well bread suspected serial killer) While some may be disappointed when they realize this is not Match Point 2: Risk Addiction I thought it was proof that Woody Allen is still fully in control of the style many of us have grown to love<br /><br />This was the most I\\'d laughed at one of Woody\\'s comedies in years (dare I say a decade) While I\\'ve never been impressed with Scarlet Johanson in this she managed to tone down her \"sexy\" image and jumped right into a average but spirited young woman<br /><br />This may not be the crown jewel of his career but it was wittier than \"Devil Wears Prada\" and more interesting than \"Superman\" a great comedy to go see with friends'"
          },
          "metadata": {}
        }
      ]
    },
    {
      "cell_type": "code",
      "source": [
        "def clean(text):\n",
        "    import re\n",
        "    pattern = '<.*?>'\n",
        "    html_pattern= re.compile(pattern)\n",
        "    punctuation_pattern = re.compile(r'[,.!]')\n",
        "    extraneous_phrase_pattern = re.compile(r'Trust me,')\n",
        "    personal_references_pattern = re.compile(r'\\b(I|me|my)\\b')\n",
        "    #above can be removed by stopwords too\n",
        "\n",
        "    text = html_pattern.sub('', text)\n",
        "\n",
        "    text = punctuation_pattern.sub('', text)\n",
        "\n",
        "    # Remove the phrase \"Trust me,\"\n",
        "    text= re.sub(extraneous_phrase_pattern,'', text)\n",
        "\n",
        "    # Remove first-person references\n",
        "    text = personal_references_pattern.sub('', text)\n",
        "\n",
        "    return text"
      ],
      "metadata": {
        "execution": {
          "iopub.status.busy": "2024-07-23T08:42:55.069819Z",
          "iopub.execute_input": "2024-07-23T08:42:55.070253Z",
          "iopub.status.idle": "2024-07-23T08:42:55.079634Z",
          "shell.execute_reply.started": "2024-07-23T08:42:55.070220Z",
          "shell.execute_reply": "2024-07-23T08:42:55.078062Z"
        },
        "trusted": true,
        "id": "6x4QAy0f4_yK"
      },
      "execution_count": null,
      "outputs": []
    },
    {
      "cell_type": "code",
      "source": [
        "df1['review']= df1['review'].apply(clean)\n",
        "df1.review[23855]"
      ],
      "metadata": {
        "execution": {
          "iopub.status.busy": "2024-07-23T08:22:34.694725Z",
          "iopub.execute_input": "2024-07-23T08:22:34.695178Z",
          "iopub.status.idle": "2024-07-23T08:22:35.633021Z",
          "shell.execute_reply.started": "2024-07-23T08:22:34.695139Z",
          "shell.execute_reply": "2024-07-23T08:22:35.631835Z"
        },
        "trusted": true,
        "id": "pB4INCbc4_yM",
        "outputId": "00ec0600-4011-4759-e75e-dfcb5a9a0056"
      },
      "execution_count": null,
      "outputs": [
        {
          "execution_count": 36,
          "output_type": "execute_result",
          "data": {
            "text/plain": "\"Anna (Charlotte Burke) who is just on the verge of puberty begins to have strange dreams which start affecting her in real life--especially involving a boy named Mark (Elliott Spiers) who she meets in her dreamsVery unusual fantasy with some truly terrifying moments Despite the fact that this is about a teenage girl and has a PG-13 rating this is NOT for children Also if you hate fantasies stay far away But if you're game for something different this fits the billWell directed by Bernard Rose with a just beautiful music score and a few nice scary jolts The only thing that prevents this from being a really great movie is Burke--she's not a very good actress (it's no surprise that this has been her only film) and it hurts the movie However everybody else is just greatSpiers is very good as Mark; Glenne Headley (faking a British accent very well) is also very good as Anna's mother and Ben Cross is both frightening and sympathetic as Anna's fatherA sleeper hit when released in 1988 it's since faded away That's too bad--it's really very good\""
          },
          "metadata": {}
        }
      ]
    },
    {
      "cell_type": "code",
      "source": [
        "#converting to lowerd\n",
        "def lower(text):\n",
        "    return text.lower()\n",
        "\n",
        "def remove_splc(text):\n",
        "    x=''\n",
        "    for i in text:\n",
        "        if i.isalnum():\n",
        "            x+=i\n",
        "        else:\n",
        "            x+=\" \"\n",
        "    return x"
      ],
      "metadata": {
        "execution": {
          "iopub.status.busy": "2024-07-23T08:39:37.105049Z",
          "iopub.execute_input": "2024-07-23T08:39:37.105450Z",
          "iopub.status.idle": "2024-07-23T08:39:37.112044Z",
          "shell.execute_reply.started": "2024-07-23T08:39:37.105419Z",
          "shell.execute_reply": "2024-07-23T08:39:37.110686Z"
        },
        "trusted": true,
        "id": "Gtk2JIs74_yN"
      },
      "execution_count": null,
      "outputs": []
    },
    {
      "cell_type": "code",
      "source": [
        "df1[\"review\"]=df1[\"review\"].apply(lower)\n"
      ],
      "metadata": {
        "execution": {
          "iopub.status.busy": "2024-07-23T08:40:33.594432Z",
          "iopub.execute_input": "2024-07-23T08:40:33.594852Z",
          "iopub.status.idle": "2024-07-23T08:40:33.645429Z",
          "shell.execute_reply.started": "2024-07-23T08:40:33.594818Z",
          "shell.execute_reply": "2024-07-23T08:40:33.644117Z"
        },
        "trusted": true,
        "id": "deZiEzBG4_yO"
      },
      "execution_count": null,
      "outputs": []
    },
    {
      "cell_type": "code",
      "source": [
        "df1[\"review\"]=df1[\"review\"].apply(remove_splc)"
      ],
      "metadata": {
        "execution": {
          "iopub.status.busy": "2024-07-23T08:40:38.365427Z",
          "iopub.execute_input": "2024-07-23T08:40:38.365888Z",
          "iopub.status.idle": "2024-07-23T08:40:41.280190Z",
          "shell.execute_reply.started": "2024-07-23T08:40:38.365850Z",
          "shell.execute_reply": "2024-07-23T08:40:41.278692Z"
        },
        "trusted": true,
        "id": "T6NgrBSu4_yO"
      },
      "execution_count": null,
      "outputs": []
    },
    {
      "cell_type": "code",
      "source": [
        "#to remove stopwords\n",
        "import nltk\n",
        "from nltk.corpus import stopwords"
      ],
      "metadata": {
        "execution": {
          "iopub.status.busy": "2024-07-23T08:41:29.599337Z",
          "iopub.execute_input": "2024-07-23T08:41:29.599811Z",
          "iopub.status.idle": "2024-07-23T08:41:29.605147Z",
          "shell.execute_reply.started": "2024-07-23T08:41:29.599765Z",
          "shell.execute_reply": "2024-07-23T08:41:29.603820Z"
        },
        "trusted": true,
        "id": "YkkfY9BV4_yP"
      },
      "execution_count": null,
      "outputs": []
    },
    {
      "cell_type": "code",
      "source": [
        "#stopwords.words('english')\n",
        "def remove_stopwords(text):\n",
        "    stopword= set(stopwords.words(\"english\"))\n",
        "    filtered_words= [i for i in text.split()\n",
        "                    if i.lower() not in stopword]\n",
        "    return filtered_words"
      ],
      "metadata": {
        "execution": {
          "iopub.status.busy": "2024-07-23T08:49:06.953178Z",
          "iopub.execute_input": "2024-07-23T08:49:06.953556Z",
          "iopub.status.idle": "2024-07-23T08:49:06.960111Z",
          "shell.execute_reply.started": "2024-07-23T08:49:06.953527Z",
          "shell.execute_reply": "2024-07-23T08:49:06.958742Z"
        },
        "trusted": true,
        "id": "QC1segtk4_yQ"
      },
      "execution_count": null,
      "outputs": []
    },
    {
      "cell_type": "code",
      "source": [
        "df1[\"review\"]=df1[\"review\"].apply(remove_stopwords)"
      ],
      "metadata": {
        "execution": {
          "iopub.status.busy": "2024-07-23T08:49:50.401665Z",
          "iopub.execute_input": "2024-07-23T08:49:50.402093Z",
          "iopub.status.idle": "2024-07-23T08:49:52.989634Z",
          "shell.execute_reply.started": "2024-07-23T08:49:50.402061Z",
          "shell.execute_reply": "2024-07-23T08:49:52.988431Z"
        },
        "trusted": true,
        "id": "3_GtmPK74_yR"
      },
      "execution_count": null,
      "outputs": []
    },
    {
      "cell_type": "code",
      "source": [
        "df1[\"review\"]"
      ],
      "metadata": {
        "execution": {
          "iopub.status.busy": "2024-07-23T08:55:11.050947Z",
          "iopub.execute_input": "2024-07-23T08:55:11.051341Z",
          "iopub.status.idle": "2024-07-23T08:55:11.066763Z",
          "shell.execute_reply.started": "2024-07-23T08:55:11.051312Z",
          "shell.execute_reply": "2024-07-23T08:55:11.065605Z"
        },
        "trusted": true,
        "id": "6V2Tcrw84_yR",
        "outputId": "a905696c-5978-49a4-b61f-48a41014e014"
      },
      "execution_count": null,
      "outputs": [
        {
          "execution_count": 75,
          "output_type": "execute_result",
          "data": {
            "text/plain": "23855    [anna, charlotte, burke, verge, puberty, begin...\n12146    [documentary, meet, roger, rich, manager, fact...\n32276    [junior, dad, start, new, life, new, town, lif...\n3616     [group, tourists, stranded, snake, island, unf...\n43349    [favorite, mel, brooks, movie, first, one, eve...\n                               ...                        \n34485    [probably, best, television, show, ever, seen,...\n2121     [started, watch, show, accident, love, fact, m...\n44474    [overall, performance, last, long, waiting, aa...\n41241    [ordinarily, really, enjoy, movies, like, chan...\n12829    [ah, refreshing, see, vision, 18th, century, e...\nName: review, Length: 10000, dtype: object"
          },
          "metadata": {}
        }
      ]
    },
    {
      "cell_type": "code",
      "source": [
        "#stemming\n",
        "from nltk.stem.porter import PorterStemmer\n",
        "ps=PorterStemmer()\n",
        "def stem_words(text):\n",
        "    stemmed_words= [ps.stem(word) for word in text]\n",
        "    return stemmed_words"
      ],
      "metadata": {
        "execution": {
          "iopub.status.busy": "2024-07-23T08:57:00.566204Z",
          "iopub.execute_input": "2024-07-23T08:57:00.566639Z",
          "iopub.status.idle": "2024-07-23T08:57:00.573360Z",
          "shell.execute_reply.started": "2024-07-23T08:57:00.566604Z",
          "shell.execute_reply": "2024-07-23T08:57:00.571788Z"
        },
        "trusted": true,
        "id": "XSZQ-Acm4_yS"
      },
      "execution_count": null,
      "outputs": []
    },
    {
      "cell_type": "code",
      "source": [
        "txt=([\"i\", \"loved\",\"loving\"])\n",
        "stem_words(txt)"
      ],
      "metadata": {
        "execution": {
          "iopub.status.busy": "2024-07-23T08:57:02.526079Z",
          "iopub.execute_input": "2024-07-23T08:57:02.526522Z",
          "iopub.status.idle": "2024-07-23T08:57:02.534615Z",
          "shell.execute_reply.started": "2024-07-23T08:57:02.526487Z",
          "shell.execute_reply": "2024-07-23T08:57:02.533149Z"
        },
        "trusted": true,
        "id": "zup3OijO4_yT",
        "outputId": "a71a95c7-bd28-4be5-eef0-c7c5e0de79f9"
      },
      "execution_count": null,
      "outputs": [
        {
          "execution_count": 83,
          "output_type": "execute_result",
          "data": {
            "text/plain": "['i', 'love', 'love']"
          },
          "metadata": {}
        }
      ]
    },
    {
      "cell_type": "code",
      "source": [
        "df1[\"review\"]=df1[\"review\"].apply(stem_words)"
      ],
      "metadata": {
        "execution": {
          "iopub.status.busy": "2024-07-23T08:58:01.014979Z",
          "iopub.execute_input": "2024-07-23T08:58:01.015968Z",
          "iopub.status.idle": "2024-07-23T08:58:48.794120Z",
          "shell.execute_reply.started": "2024-07-23T08:58:01.015893Z",
          "shell.execute_reply": "2024-07-23T08:58:48.793038Z"
        },
        "trusted": true,
        "id": "KyYWg_a-4_yV"
      },
      "execution_count": null,
      "outputs": []
    },
    {
      "cell_type": "code",
      "source": [
        "#join\n",
        "def join_back(text):\n",
        "    return \" \".join(text)"
      ],
      "metadata": {
        "execution": {
          "iopub.status.busy": "2024-07-23T08:58:49.032289Z",
          "iopub.execute_input": "2024-07-23T08:58:49.032628Z",
          "iopub.status.idle": "2024-07-23T08:58:49.044168Z",
          "shell.execute_reply.started": "2024-07-23T08:58:49.032599Z",
          "shell.execute_reply": "2024-07-23T08:58:49.042814Z"
        },
        "trusted": true,
        "id": "LOEWpMfm4_yW"
      },
      "execution_count": null,
      "outputs": []
    },
    {
      "cell_type": "code",
      "source": [
        "df1[\"review\"]= df1[\"review\"].apply(join_back)"
      ],
      "metadata": {
        "execution": {
          "iopub.status.busy": "2024-07-23T08:58:58.202179Z",
          "iopub.execute_input": "2024-07-23T08:58:58.202579Z",
          "iopub.status.idle": "2024-07-23T08:58:58.307353Z",
          "shell.execute_reply.started": "2024-07-23T08:58:58.202550Z",
          "shell.execute_reply": "2024-07-23T08:58:58.306056Z"
        },
        "trusted": true,
        "id": "xcc7RY0z4_yX"
      },
      "execution_count": null,
      "outputs": []
    },
    {
      "cell_type": "code",
      "source": [
        "df1.head()"
      ],
      "metadata": {
        "execution": {
          "iopub.status.busy": "2024-07-23T08:59:21.381549Z",
          "iopub.execute_input": "2024-07-23T08:59:21.382434Z",
          "iopub.status.idle": "2024-07-23T08:59:21.393545Z",
          "shell.execute_reply.started": "2024-07-23T08:59:21.382390Z",
          "shell.execute_reply": "2024-07-23T08:59:21.392310Z"
        },
        "trusted": true,
        "id": "15V4L2X_4_yX",
        "outputId": "82f296ff-d32c-438c-b20b-7b2167d474b2"
      },
      "execution_count": null,
      "outputs": [
        {
          "execution_count": 92,
          "output_type": "execute_result",
          "data": {
            "text/plain": "                                                  review  sentiment\n23855  anna charlott burk verg puberti begin strang d...          1\n12146  documentari meet roger rich manag factori chin...          1\n32276  junior dad start new life new town life junior...          0\n3616   group tourist strand snake island unfortun acc...          0\n43349  favorit mel brook movi first one ever saw four...          1",
            "text/html": "<div>\n<style scoped>\n    .dataframe tbody tr th:only-of-type {\n        vertical-align: middle;\n    }\n\n    .dataframe tbody tr th {\n        vertical-align: top;\n    }\n\n    .dataframe thead th {\n        text-align: right;\n    }\n</style>\n<table border=\"1\" class=\"dataframe\">\n  <thead>\n    <tr style=\"text-align: right;\">\n      <th></th>\n      <th>review</th>\n      <th>sentiment</th>\n    </tr>\n  </thead>\n  <tbody>\n    <tr>\n      <th>23855</th>\n      <td>anna charlott burk verg puberti begin strang d...</td>\n      <td>1</td>\n    </tr>\n    <tr>\n      <th>12146</th>\n      <td>documentari meet roger rich manag factori chin...</td>\n      <td>1</td>\n    </tr>\n    <tr>\n      <th>32276</th>\n      <td>junior dad start new life new town life junior...</td>\n      <td>0</td>\n    </tr>\n    <tr>\n      <th>3616</th>\n      <td>group tourist strand snake island unfortun acc...</td>\n      <td>0</td>\n    </tr>\n    <tr>\n      <th>43349</th>\n      <td>favorit mel brook movi first one ever saw four...</td>\n      <td>1</td>\n    </tr>\n  </tbody>\n</table>\n</div>"
          },
          "metadata": {}
        }
      ]
    },
    {
      "cell_type": "code",
      "source": [
        "from sklearn.feature_extraction.text import CountVectorizer\n",
        "cv=CountVectorizer(max_features= 1000) #mostused1000words"
      ],
      "metadata": {
        "execution": {
          "iopub.status.busy": "2024-07-23T09:16:14.582893Z",
          "iopub.execute_input": "2024-07-23T09:16:14.583306Z",
          "iopub.status.idle": "2024-07-23T09:16:14.589584Z",
          "shell.execute_reply.started": "2024-07-23T09:16:14.583274Z",
          "shell.execute_reply": "2024-07-23T09:16:14.588207Z"
        },
        "trusted": true,
        "id": "z7H6Q0bw4_yY"
      },
      "execution_count": null,
      "outputs": []
    },
    {
      "cell_type": "code",
      "source": [
        "x= cv.fit_transform(df1[\"review\"]).toarray()"
      ],
      "metadata": {
        "execution": {
          "iopub.status.busy": "2024-07-23T09:16:17.379493Z",
          "iopub.execute_input": "2024-07-23T09:16:17.380037Z",
          "iopub.status.idle": "2024-07-23T09:16:19.209514Z",
          "shell.execute_reply.started": "2024-07-23T09:16:17.379985Z",
          "shell.execute_reply": "2024-07-23T09:16:19.208222Z"
        },
        "trusted": true,
        "id": "qHIF4f7L4_yZ"
      },
      "execution_count": null,
      "outputs": []
    },
    {
      "cell_type": "code",
      "source": [
        "x"
      ],
      "metadata": {
        "execution": {
          "iopub.status.busy": "2024-07-23T09:16:22.243187Z",
          "iopub.execute_input": "2024-07-23T09:16:22.244574Z",
          "iopub.status.idle": "2024-07-23T09:16:22.254047Z",
          "shell.execute_reply.started": "2024-07-23T09:16:22.244528Z",
          "shell.execute_reply": "2024-07-23T09:16:22.252468Z"
        },
        "trusted": true,
        "id": "6gIv2bWc4_ya",
        "outputId": "9fc9c442-f011-4a22-dd3f-df0b03ceb5dc"
      },
      "execution_count": null,
      "outputs": [
        {
          "execution_count": 127,
          "output_type": "execute_result",
          "data": {
            "text/plain": "array([[0, 0, 0, ..., 0, 0, 0],\n       [0, 0, 0, ..., 0, 0, 0],\n       [0, 0, 0, ..., 0, 0, 0],\n       ...,\n       [0, 0, 0, ..., 0, 0, 0],\n       [0, 0, 0, ..., 0, 0, 0],\n       [0, 0, 0, ..., 0, 0, 0]])"
          },
          "metadata": {}
        }
      ]
    },
    {
      "cell_type": "code",
      "source": [
        "x.shape"
      ],
      "metadata": {
        "execution": {
          "iopub.status.busy": "2024-07-23T09:16:24.808082Z",
          "iopub.execute_input": "2024-07-23T09:16:24.808507Z",
          "iopub.status.idle": "2024-07-23T09:16:24.816811Z",
          "shell.execute_reply.started": "2024-07-23T09:16:24.808475Z",
          "shell.execute_reply": "2024-07-23T09:16:24.815588Z"
        },
        "trusted": true,
        "id": "1FY4K2f44_yb",
        "outputId": "3400d1ee-da26-472c-ae0b-475291a40884"
      },
      "execution_count": null,
      "outputs": [
        {
          "execution_count": 128,
          "output_type": "execute_result",
          "data": {
            "text/plain": "(10000, 1000)"
          },
          "metadata": {}
        }
      ]
    },
    {
      "cell_type": "code",
      "source": [
        "x[0].max()  #repetiton of word\n",
        "x[0].mean()"
      ],
      "metadata": {
        "execution": {
          "iopub.status.busy": "2024-07-23T09:16:27.342801Z",
          "iopub.execute_input": "2024-07-23T09:16:27.344354Z",
          "iopub.status.idle": "2024-07-23T09:16:27.352496Z",
          "shell.execute_reply.started": "2024-07-23T09:16:27.344310Z",
          "shell.execute_reply": "2024-07-23T09:16:27.351223Z"
        },
        "trusted": true,
        "id": "2OsmibSD4_yc",
        "outputId": "b5e42a0b-6072-4d6e-d9d0-50779386ff55"
      },
      "execution_count": null,
      "outputs": [
        {
          "execution_count": 129,
          "output_type": "execute_result",
          "data": {
            "text/plain": "0.067"
          },
          "metadata": {}
        }
      ]
    },
    {
      "cell_type": "code",
      "source": [
        "y= df1.iloc[:, -1].values\n",
        "y.shape"
      ],
      "metadata": {
        "execution": {
          "iopub.status.busy": "2024-07-23T09:16:29.581741Z",
          "iopub.execute_input": "2024-07-23T09:16:29.583176Z",
          "iopub.status.idle": "2024-07-23T09:16:29.591556Z",
          "shell.execute_reply.started": "2024-07-23T09:16:29.583127Z",
          "shell.execute_reply": "2024-07-23T09:16:29.590277Z"
        },
        "trusted": true,
        "id": "qJpXS-EM4_yd",
        "outputId": "0e81a918-58be-4f11-f87b-5808d8ef584b"
      },
      "execution_count": null,
      "outputs": [
        {
          "execution_count": 130,
          "output_type": "execute_result",
          "data": {
            "text/plain": "(10000,)"
          },
          "metadata": {}
        }
      ]
    },
    {
      "cell_type": "code",
      "source": [
        "from sklearn.model_selection import train_test_split\n",
        "x_train,x_test,y_train,y_test= train_test_split(x,y,\n",
        "                                                test_size=0.2,\n",
        "                                               random_state=42)"
      ],
      "metadata": {
        "execution": {
          "iopub.status.busy": "2024-07-23T09:16:32.260565Z",
          "iopub.execute_input": "2024-07-23T09:16:32.261031Z",
          "iopub.status.idle": "2024-07-23T09:16:32.298788Z",
          "shell.execute_reply.started": "2024-07-23T09:16:32.260991Z",
          "shell.execute_reply": "2024-07-23T09:16:32.297650Z"
        },
        "trusted": true,
        "id": "xkzrLrHd4_yd"
      },
      "execution_count": null,
      "outputs": []
    },
    {
      "cell_type": "code",
      "source": [
        "x_train.shape"
      ],
      "metadata": {
        "execution": {
          "iopub.status.busy": "2024-07-23T09:16:35.523231Z",
          "iopub.execute_input": "2024-07-23T09:16:35.523624Z",
          "iopub.status.idle": "2024-07-23T09:16:35.531697Z",
          "shell.execute_reply.started": "2024-07-23T09:16:35.523595Z",
          "shell.execute_reply": "2024-07-23T09:16:35.530470Z"
        },
        "trusted": true,
        "id": "-FIJ4EuO4_ye",
        "outputId": "a9fc1272-69d3-4dc1-c94a-7e0c694a7999"
      },
      "execution_count": null,
      "outputs": [
        {
          "execution_count": 132,
          "output_type": "execute_result",
          "data": {
            "text/plain": "(8000, 1000)"
          },
          "metadata": {}
        }
      ]
    },
    {
      "cell_type": "code",
      "source": [
        "from sklearn.naive_bayes import GaussianNB,MultinomialNB,BernoulliNB"
      ],
      "metadata": {
        "execution": {
          "iopub.status.busy": "2024-07-23T09:16:38.902941Z",
          "iopub.execute_input": "2024-07-23T09:16:38.903434Z",
          "iopub.status.idle": "2024-07-23T09:16:38.909571Z",
          "shell.execute_reply.started": "2024-07-23T09:16:38.903399Z",
          "shell.execute_reply": "2024-07-23T09:16:38.908262Z"
        },
        "trusted": true,
        "id": "5lWlETdF4_yf"
      },
      "execution_count": null,
      "outputs": []
    },
    {
      "cell_type": "code",
      "source": [
        "gnb= GaussianNB()\n",
        "mnb= MultinomialNB()\n",
        "bnb= BernoulliNB()\n",
        "gnb.fit(x_train,y_train)\n",
        "mnb.fit(x_train,y_train)\n",
        "bnb.fit(x_train,y_train)"
      ],
      "metadata": {
        "execution": {
          "iopub.status.busy": "2024-07-23T09:16:40.085933Z",
          "iopub.execute_input": "2024-07-23T09:16:40.086511Z",
          "iopub.status.idle": "2024-07-23T09:16:40.458153Z",
          "shell.execute_reply.started": "2024-07-23T09:16:40.086464Z",
          "shell.execute_reply": "2024-07-23T09:16:40.456782Z"
        },
        "trusted": true,
        "id": "l6zOO4tx4_yg",
        "outputId": "60e8aefc-3919-492e-c36f-c112e797e441"
      },
      "execution_count": null,
      "outputs": [
        {
          "execution_count": 135,
          "output_type": "execute_result",
          "data": {
            "text/plain": "BernoulliNB()",
            "text/html": "<style>#sk-container-id-2 {color: black;background-color: white;}#sk-container-id-2 pre{padding: 0;}#sk-container-id-2 div.sk-toggleable {background-color: white;}#sk-container-id-2 label.sk-toggleable__label {cursor: pointer;display: block;width: 100%;margin-bottom: 0;padding: 0.3em;box-sizing: border-box;text-align: center;}#sk-container-id-2 label.sk-toggleable__label-arrow:before {content: \"▸\";float: left;margin-right: 0.25em;color: #696969;}#sk-container-id-2 label.sk-toggleable__label-arrow:hover:before {color: black;}#sk-container-id-2 div.sk-estimator:hover label.sk-toggleable__label-arrow:before {color: black;}#sk-container-id-2 div.sk-toggleable__content {max-height: 0;max-width: 0;overflow: hidden;text-align: left;background-color: #f0f8ff;}#sk-container-id-2 div.sk-toggleable__content pre {margin: 0.2em;color: black;border-radius: 0.25em;background-color: #f0f8ff;}#sk-container-id-2 input.sk-toggleable__control:checked~div.sk-toggleable__content {max-height: 200px;max-width: 100%;overflow: auto;}#sk-container-id-2 input.sk-toggleable__control:checked~label.sk-toggleable__label-arrow:before {content: \"▾\";}#sk-container-id-2 div.sk-estimator input.sk-toggleable__control:checked~label.sk-toggleable__label {background-color: #d4ebff;}#sk-container-id-2 div.sk-label input.sk-toggleable__control:checked~label.sk-toggleable__label {background-color: #d4ebff;}#sk-container-id-2 input.sk-hidden--visually {border: 0;clip: rect(1px 1px 1px 1px);clip: rect(1px, 1px, 1px, 1px);height: 1px;margin: -1px;overflow: hidden;padding: 0;position: absolute;width: 1px;}#sk-container-id-2 div.sk-estimator {font-family: monospace;background-color: #f0f8ff;border: 1px dotted black;border-radius: 0.25em;box-sizing: border-box;margin-bottom: 0.5em;}#sk-container-id-2 div.sk-estimator:hover {background-color: #d4ebff;}#sk-container-id-2 div.sk-parallel-item::after {content: \"\";width: 100%;border-bottom: 1px solid gray;flex-grow: 1;}#sk-container-id-2 div.sk-label:hover label.sk-toggleable__label {background-color: #d4ebff;}#sk-container-id-2 div.sk-serial::before {content: \"\";position: absolute;border-left: 1px solid gray;box-sizing: border-box;top: 0;bottom: 0;left: 50%;z-index: 0;}#sk-container-id-2 div.sk-serial {display: flex;flex-direction: column;align-items: center;background-color: white;padding-right: 0.2em;padding-left: 0.2em;position: relative;}#sk-container-id-2 div.sk-item {position: relative;z-index: 1;}#sk-container-id-2 div.sk-parallel {display: flex;align-items: stretch;justify-content: center;background-color: white;position: relative;}#sk-container-id-2 div.sk-item::before, #sk-container-id-2 div.sk-parallel-item::before {content: \"\";position: absolute;border-left: 1px solid gray;box-sizing: border-box;top: 0;bottom: 0;left: 50%;z-index: -1;}#sk-container-id-2 div.sk-parallel-item {display: flex;flex-direction: column;z-index: 1;position: relative;background-color: white;}#sk-container-id-2 div.sk-parallel-item:first-child::after {align-self: flex-end;width: 50%;}#sk-container-id-2 div.sk-parallel-item:last-child::after {align-self: flex-start;width: 50%;}#sk-container-id-2 div.sk-parallel-item:only-child::after {width: 0;}#sk-container-id-2 div.sk-dashed-wrapped {border: 1px dashed gray;margin: 0 0.4em 0.5em 0.4em;box-sizing: border-box;padding-bottom: 0.4em;background-color: white;}#sk-container-id-2 div.sk-label label {font-family: monospace;font-weight: bold;display: inline-block;line-height: 1.2em;}#sk-container-id-2 div.sk-label-container {text-align: center;}#sk-container-id-2 div.sk-container {/* jupyter's `normalize.less` sets `[hidden] { display: none; }` but bootstrap.min.css set `[hidden] { display: none !important; }` so we also need the `!important` here to be able to override the default hidden behavior on the sphinx rendered scikit-learn.org. See: https://github.com/scikit-learn/scikit-learn/issues/21755 */display: inline-block !important;position: relative;}#sk-container-id-2 div.sk-text-repr-fallback {display: none;}</style><div id=\"sk-container-id-2\" class=\"sk-top-container\"><div class=\"sk-text-repr-fallback\"><pre>BernoulliNB()</pre><b>In a Jupyter environment, please rerun this cell to show the HTML representation or trust the notebook. <br />On GitHub, the HTML representation is unable to render, please try loading this page with nbviewer.org.</b></div><div class=\"sk-container\" hidden><div class=\"sk-item\"><div class=\"sk-estimator sk-toggleable\"><input class=\"sk-toggleable__control sk-hidden--visually\" id=\"sk-estimator-id-2\" type=\"checkbox\" checked><label for=\"sk-estimator-id-2\" class=\"sk-toggleable__label sk-toggleable__label-arrow\">BernoulliNB</label><div class=\"sk-toggleable__content\"><pre>BernoulliNB()</pre></div></div></div></div></div>"
          },
          "metadata": {}
        }
      ]
    },
    {
      "cell_type": "code",
      "source": [
        "y_pred_bnb= bnb.predict(x_test)\n",
        "y_pred_gnb= gnb.predict(x_test)\n",
        "y_pred_mnb= mnb.predict(x_test)"
      ],
      "metadata": {
        "execution": {
          "iopub.status.busy": "2024-07-23T09:16:42.279355Z",
          "iopub.execute_input": "2024-07-23T09:16:42.279820Z",
          "iopub.status.idle": "2024-07-23T09:16:42.359850Z",
          "shell.execute_reply.started": "2024-07-23T09:16:42.279777Z",
          "shell.execute_reply": "2024-07-23T09:16:42.358261Z"
        },
        "trusted": true,
        "id": "uN7tTjEr4_yh"
      },
      "execution_count": null,
      "outputs": []
    },
    {
      "cell_type": "code",
      "source": [
        "from sklearn.metrics import accuracy_score"
      ],
      "metadata": {
        "execution": {
          "iopub.status.busy": "2024-07-23T09:16:44.163478Z",
          "iopub.execute_input": "2024-07-23T09:16:44.163974Z",
          "iopub.status.idle": "2024-07-23T09:16:44.171395Z",
          "shell.execute_reply.started": "2024-07-23T09:16:44.163927Z",
          "shell.execute_reply": "2024-07-23T09:16:44.169584Z"
        },
        "trusted": true,
        "id": "UM1vCrAl4_yi"
      },
      "execution_count": null,
      "outputs": []
    },
    {
      "cell_type": "code",
      "source": [
        "print(f\"accuracy of bnb is {accuracy_score(y_test, y_pred_bnb)}, of gnb is {accuracy_score(y_test, y_pred_gnb)}, of mnb is {accuracy_score(y_test, y_pred_mnb)}\")\n"
      ],
      "metadata": {
        "execution": {
          "iopub.status.busy": "2024-07-23T09:16:45.194339Z",
          "iopub.execute_input": "2024-07-23T09:16:45.194781Z",
          "iopub.status.idle": "2024-07-23T09:16:45.204903Z",
          "shell.execute_reply.started": "2024-07-23T09:16:45.194726Z",
          "shell.execute_reply": "2024-07-23T09:16:45.203389Z"
        },
        "trusted": true,
        "id": "j8ia0f3e4_yj",
        "outputId": "c226120b-f0c7-4546-d174-e2e6ba80a91e"
      },
      "execution_count": null,
      "outputs": [
        {
          "name": "stdout",
          "text": "accuracy of bnb is 0.815, of gnb is 0.776, of mnb is 0.82\n",
          "output_type": "stream"
        }
      ]
    },
    {
      "cell_type": "code",
      "source": [],
      "metadata": {
        "id": "b1BEgEak4_yj"
      },
      "execution_count": null,
      "outputs": []
    }
  ]
}