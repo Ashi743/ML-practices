{
  "nbformat": 4,
  "nbformat_minor": 0,
  "metadata": {
    "colab": {
      "provenance": [],
      "authorship_tag": "ABX9TyMDyLY14dgAN4ZvnCVO2dYK",
      "include_colab_link": true
    },
    "kernelspec": {
      "name": "python3",
      "display_name": "Python 3"
    },
    "language_info": {
      "name": "python"
    }
  },
  "cells": [
    {
      "cell_type": "markdown",
      "metadata": {
        "id": "view-in-github",
        "colab_type": "text"
      },
      "source": [
        "<a href=\"https://colab.research.google.com/github/Ashi743/ML-practices/blob/main/random_anagram.ipynb\" target=\"_parent\"><img src=\"https://colab.research.google.com/assets/colab-badge.svg\" alt=\"Open In Colab\"/></a>"
      ]
    },
    {
      "cell_type": "code",
      "source": [],
      "metadata": {
        "id": "zQdcYmzieIDz"
      },
      "execution_count": null,
      "outputs": []
    },
    {
      "cell_type": "code",
      "execution_count": 105,
      "metadata": {
        "colab": {
          "base_uri": "https://localhost:8080/"
        },
        "id": "MaHGmjhKeE8I",
        "outputId": "2cd211cb-1e58-4f12-cd4a-b2e8168b88ae"
      },
      "outputs": [
        {
          "output_type": "stream",
          "name": "stdout",
          "text": [
            "yes\n",
            "yes\n"
          ]
        }
      ],
      "source": [
        "s='ashi'\n",
        "t=\"shia\"\n",
        "if sorted(s)==sorted(t):\n",
        "    print(\"yes\")\n",
        "else:\n",
        "    print(\"no\")\n",
        "\n",
        "if Counter(s)==Counter(t):\n",
        "    print(\"yes\")\n",
        "else:\n",
        "    print(\"no\")"
      ]
    },
    {
      "cell_type": "code",
      "source": [
        "word= \"BOOLAHUBBOO\"\n",
        "nwrd= \"BBBOOOOLAHU\"\n",
        "\n",
        "from math import factorial as fact\n",
        "from collections import Counter\n",
        "\n",
        "fact(len(word)-4+1)/(fact(3)*fact(3))\n",
        "\n",
        "\n"
      ],
      "metadata": {
        "colab": {
          "base_uri": "https://localhost:8080/"
        },
        "id": "QfSsX_1ELiHO",
        "outputId": "01560380-374c-4d40-8314-844313f2dcde"
      },
      "execution_count": 39,
      "outputs": [
        {
          "output_type": "execute_result",
          "data": {
            "text/plain": [
              "1120.0"
            ]
          },
          "metadata": {},
          "execution_count": 39
        }
      ]
    },
    {
      "cell_type": "code",
      "source": [
        "def ana(word,fix):\n",
        "  #my words\n",
        "  print(\"word\",word)\n",
        "  print(\"fix\",fix)\n",
        "  c= [i for i in word]\n",
        "  d= [i for i in fix]\n",
        "  remain=list(word)\n",
        "  for element in d:\n",
        "    if element in c:\n",
        "        c.remove(element)\n",
        "  remain=  \"\".join(c)\n",
        "\n",
        "  #word-fix\n",
        "  print(\"remain\", remain)\n",
        "\n",
        "  #Counter kaha hai\n",
        "  c_rem= Counter(remain)\n",
        "  c_fix= Counter(fix)\n",
        "  print(c_rem)\n",
        "  print(c_fix)\n",
        "\n",
        "  num= fact(len(remain)+1)\n",
        "  print(num)\n",
        "  for i in c_fix.values():\n",
        "    num=num/fact(i)\n",
        "    print(num)\n",
        "  for j in c_rem.values():\n",
        "    num/=fact(j)\n",
        "    print(num)\n",
        "\n",
        "\n",
        ""
      ],
      "metadata": {
        "id": "y324dPLrR5Di"
      },
      "execution_count": 103,
      "outputs": []
    },
    {
      "cell_type": "code",
      "source": [
        "word= \"BOOLAHUBBOO\"\n",
        "fix= \"BBBO\"\n",
        "ana(word,fix)"
      ],
      "metadata": {
        "colab": {
          "base_uri": "https://localhost:8080/"
        },
        "id": "2julYs1KX2DG",
        "outputId": "fe7c7bd7-712b-4df0-f37d-308f065388b7"
      },
      "execution_count": 104,
      "outputs": [
        {
          "output_type": "stream",
          "name": "stdout",
          "text": [
            "word BOOLAHUBBOO\n",
            "fix BBBO\n",
            "remain OLAHUOO\n",
            "Counter({'O': 3, 'L': 1, 'A': 1, 'H': 1, 'U': 1})\n",
            "Counter({'B': 3, 'O': 1})\n",
            "40320\n",
            "6720.0\n",
            "6720.0\n",
            "1120.0\n",
            "1120.0\n",
            "1120.0\n",
            "1120.0\n",
            "1120.0\n"
          ]
        }
      ]
    },
    {
      "cell_type": "code",
      "source": [
        "from math import factorial as fact\n",
        "from collections import Counter\n",
        "\n",
        "def ana(word, fix):\n",
        "    print(\"Word:\", word)\n",
        "    print(\"Fixed Part:\", fix)\n",
        "\n",
        "    # Split the word into lists of characters\n",
        "    c = [i for i in word]\n",
        "    d = [i for i in fix]\n",
        "\n",
        "    # Remove the fixed part from the original word\n",
        "    for element in d:\n",
        "        if element in c:\n",
        "            c.remove(element)\n",
        "\n",
        "    remain = \"\".join(c)\n",
        "    print(\"Remaining Part:\", remain)\n",
        "\n",
        "    # Count the frequency of each character in the remaining part\n",
        "    c_rem = Counter(remain)\n",
        "    c_fix = Counter(fix)\n",
        "    print(\"Remaining Part Frequencies:\", c_rem)\n",
        "    print(\"Fixed Part Frequencies:\", c_fix)\n",
        "\n",
        "    # Calculate the number of anagrams\n",
        "    num_anagrams = fact(len(remain)+1)\n",
        "    for count in c_rem.values():\n",
        "        num_anagrams /= fact(count)\n",
        "    for count in c_fix.values():\n",
        "        num_anagrams /= fact(count)\n",
        "\n",
        "    print(\"Number of anagrams:\", num_anagrams)\n",
        "    return num_anagrams\n",
        "\n",
        "# Example usage\n",
        "word = \"BOOLAHUBBOO\"\n",
        "fix = \"BBBO\"\n",
        "num_anagrams = ana(word, fix)\n",
        "print(f\"The number of anagrams of '{word}' with '{fix}' fixed at the start is {num_anagrams}.\")\n"
      ],
      "metadata": {
        "colab": {
          "base_uri": "https://localhost:8080/"
        },
        "id": "lbxd0qkwbeQL",
        "outputId": "72665968-f84e-40a5-bb31-f8f1ed4f87f6"
      },
      "execution_count": 100,
      "outputs": [
        {
          "output_type": "stream",
          "name": "stdout",
          "text": [
            "Word: BOOLAHUBBOO\n",
            "Fixed Part: BBBO\n",
            "Remaining Part: OLAHUOO\n",
            "Remaining Part Frequencies: Counter({'O': 3, 'L': 1, 'A': 1, 'H': 1, 'U': 1})\n",
            "Fixed Part Frequencies: Counter({'B': 3, 'O': 1})\n",
            "Number of anagrams: 1120.0\n",
            "The number of anagrams of 'BOOLAHUBBOO' with 'BBBO' fixed at the start is 1120.0.\n"
          ]
        }
      ]
    },
    {
      "cell_type": "code",
      "source": [
        "a=\"ashish\"\n",
        "b='shi'\n",
        "c= [i for i in a]\n",
        "d= [i for i in b]\n",
        "print(c)\n",
        "print(d)\n",
        "\n",
        "for element in d:\n",
        "    if element in c:\n",
        "        c.remove(element)\n",
        "print(\"\".join(c))"
      ],
      "metadata": {
        "colab": {
          "base_uri": "https://localhost:8080/"
        },
        "id": "8wiCh_PBWgHZ",
        "outputId": "569aa78b-28bc-465c-f251-0a55099cffd5"
      },
      "execution_count": 61,
      "outputs": [
        {
          "output_type": "stream",
          "name": "stdout",
          "text": [
            "['a', 's', 'h', 'i', 's', 'h']\n",
            "['s', 'h', 'i']\n",
            "ash\n"
          ]
        }
      ]
    },
    {
      "cell_type": "code",
      "source": [
        "factorial(11)/(factorial(3)*factorial(3))"
      ],
      "metadata": {
        "colab": {
          "base_uri": "https://localhost:8080/"
        },
        "id": "66kBs7HVNhLL",
        "outputId": "d19d2650-2597-430e-c061-c2c71ce8cf5c"
      },
      "execution_count": 13,
      "outputs": [
        {
          "output_type": "execute_result",
          "data": {
            "text/plain": [
              "1108800.0"
            ]
          },
          "metadata": {},
          "execution_count": 13
        }
      ]
    },
    {
      "cell_type": "code",
      "source": [
        "fact(8)/fact(3)"
      ],
      "metadata": {
        "colab": {
          "base_uri": "https://localhost:8080/"
        },
        "id": "lH4XROilQecy",
        "outputId": "f320b668-8622-48ad-f74a-e59a3e20b07c"
      },
      "execution_count": 26,
      "outputs": [
        {
          "output_type": "execute_result",
          "data": {
            "text/plain": [
              "6720.0"
            ]
          },
          "metadata": {},
          "execution_count": 26
        }
      ]
    }
  ]
}