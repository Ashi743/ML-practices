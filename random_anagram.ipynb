{
  "nbformat": 4,
  "nbformat_minor": 0,
  "metadata": {
    "colab": {
      "provenance": [],
      "authorship_tag": "ABX9TyM433sYTO3BlPhoOtGcYrXY",
      "include_colab_link": true
    },
    "kernelspec": {
      "name": "python3",
      "display_name": "Python 3"
    },
    "language_info": {
      "name": "python"
    }
  },
  "cells": [
    {
      "cell_type": "markdown",
      "metadata": {
        "id": "view-in-github",
        "colab_type": "text"
      },
      "source": [
        "<a href=\"https://colab.research.google.com/github/Ashi743/ML-practices/blob/main/random_anagram.ipynb\" target=\"_parent\"><img src=\"https://colab.research.google.com/assets/colab-badge.svg\" alt=\"Open In Colab\"/></a>"
      ]
    },
    {
      "cell_type": "code",
      "source": [],
      "metadata": {
        "id": "zQdcYmzieIDz"
      },
      "execution_count": null,
      "outputs": []
    },
    {
      "cell_type": "code",
      "execution_count": 105,
      "metadata": {
        "colab": {
          "base_uri": "https://localhost:8080/"
        },
        "id": "MaHGmjhKeE8I",
        "outputId": "2cd211cb-1e58-4f12-cd4a-b2e8168b88ae"
      },
      "outputs": [
        {
          "output_type": "stream",
          "name": "stdout",
          "text": [
            "yes\n",
            "yes\n"
          ]
        }
      ],
      "source": [
        "s='ashi'\n",
        "t=\"shia\"\n",
        "if sorted(s)==sorted(t):\n",
        "    print(\"yes\")\n",
        "else:\n",
        "    print(\"no\")\n",
        "\n",
        "if Counter(s)==Counter(t):\n",
        "    print(\"yes\")\n",
        "else:\n",
        "    print(\"no\")"
      ]
    },
    {
      "cell_type": "code",
      "source": [
        "word= \"BOOLAHUBBOO\"\n",
        "nwrd= \"BBBOOOOLAHU\"\n",
        "\n",
        "from math import factorial as fact\n",
        "from collections import Counter\n",
        "\n",
        "fact(len(word)-4+1)/(fact(3)*fact(3))\n",
        "\n",
        "\n"
      ],
      "metadata": {
        "colab": {
          "base_uri": "https://localhost:8080/"
        },
        "id": "QfSsX_1ELiHO",
        "outputId": "01560380-374c-4d40-8314-844313f2dcde"
      },
      "execution_count": 39,
      "outputs": [
        {
          "output_type": "execute_result",
          "data": {
            "text/plain": [
              "1120.0"
            ]
          },
          "metadata": {},
          "execution_count": 39
        }
      ]
    },
    {
      "cell_type": "code",
      "source": [
        "def ana(word,fix):\n",
        "  #my words\n",
        "  print(\"word\",word)\n",
        "  print(\"fix\",fix)\n",
        "  c= [i for i in word]\n",
        "  d= [i for i in fix]\n",
        "  remain=list(word)\n",
        "  for element in d:\n",
        "    if element in c:\n",
        "        c.remove(element)\n",
        "  remain=  \"\".join(c)\n",
        "\n",
        "  #word-fix\n",
        "  print(\"remain\", remain)\n",
        "\n",
        "  #Counter kaha hai\n",
        "  c_rem= Counter(remain)\n",
        "  c_fix= Counter(fix)\n",
        "  print(c_rem)\n",
        "  print(c_fix)\n",
        "\n",
        "  num= fact(len(remain)+1)\n",
        "  print(num)\n",
        "  for i in c_fix.values():\n",
        "    num=num/fact(i)\n",
        "    print(num)\n",
        "  for j in c_rem.values():\n",
        "    num/=fact(j)\n",
        "    print(num)\n",
        "\n",
        "\n",
        ""
      ],
      "metadata": {
        "id": "y324dPLrR5Di"
      },
      "execution_count": 103,
      "outputs": []
    },
    {
      "cell_type": "code",
      "source": [
        "word= \"BOOLAHUBBOO\"\n",
        "fix= \"BBBO\"\n",
        "ana(word,fix)"
      ],
      "metadata": {
        "colab": {
          "base_uri": "https://localhost:8080/"
        },
        "id": "2julYs1KX2DG",
        "outputId": "fe7c7bd7-712b-4df0-f37d-308f065388b7"
      },
      "execution_count": 104,
      "outputs": [
        {
          "output_type": "stream",
          "name": "stdout",
          "text": [
            "word BOOLAHUBBOO\n",
            "fix BBBO\n",
            "remain OLAHUOO\n",
            "Counter({'O': 3, 'L': 1, 'A': 1, 'H': 1, 'U': 1})\n",
            "Counter({'B': 3, 'O': 1})\n",
            "40320\n",
            "6720.0\n",
            "6720.0\n",
            "1120.0\n",
            "1120.0\n",
            "1120.0\n",
            "1120.0\n",
            "1120.0\n"
          ]
        }
      ]
    },
    {
      "cell_type": "code",
      "source": [
        "from math import factorial as fact\n",
        "from collections import Counter\n",
        "\n",
        "def ana(word, fix):\n",
        "    print(\"Word:\", word)\n",
        "    print(\"Fixed Part:\", fix)\n",
        "\n",
        "    # Split the word into lists of characters\n",
        "    c = [i for i in word]\n",
        "    d = [i for i in fix]\n",
        "\n",
        "    # Remove the fixed part from the original word\n",
        "    for element in d:\n",
        "        if element in c:\n",
        "            c.remove(element)\n",
        "\n",
        "    remain = \"\".join(c)\n",
        "    print(\"Remaining Part:\", remain)\n",
        "\n",
        "    # Count the frequency of each character in the remaining part\n",
        "    c_rem = Counter(remain)\n",
        "    c_fix = Counter(fix)\n",
        "    print(\"Remaining Part Frequencies:\", c_rem)\n",
        "    print(\"Fixed Part Frequencies:\", c_fix)\n",
        "\n",
        "    # Calculate the number of anagrams\n",
        "    num_anagrams = fact(len(remain)+1)\n",
        "    for count in c_rem.values():\n",
        "        num_anagrams /= fact(count)\n",
        "    for count in c_fix.values():\n",
        "        num_anagrams /= fact(count)\n",
        "\n",
        "    print(\"Number of anagrams:\", num_anagrams)\n",
        "    return num_anagrams\n",
        "\n",
        "# Example usage\n",
        "word = \"BOOLAHUBBOO\"\n",
        "fix = \"BBBO\"\n",
        "num_anagrams = ana(word, fix)\n",
        "print(f\"The number of anagrams of '{word}' with '{fix}' fixed at the start is {num_anagrams}.\")\n"
      ],
      "metadata": {
        "colab": {
          "base_uri": "https://localhost:8080/"
        },
        "id": "lbxd0qkwbeQL",
        "outputId": "72665968-f84e-40a5-bb31-f8f1ed4f87f6"
      },
      "execution_count": 100,
      "outputs": [
        {
          "output_type": "stream",
          "name": "stdout",
          "text": [
            "Word: BOOLAHUBBOO\n",
            "Fixed Part: BBBO\n",
            "Remaining Part: OLAHUOO\n",
            "Remaining Part Frequencies: Counter({'O': 3, 'L': 1, 'A': 1, 'H': 1, 'U': 1})\n",
            "Fixed Part Frequencies: Counter({'B': 3, 'O': 1})\n",
            "Number of anagrams: 1120.0\n",
            "The number of anagrams of 'BOOLAHUBBOO' with 'BBBO' fixed at the start is 1120.0.\n"
          ]
        }
      ]
    },
    {
      "cell_type": "code",
      "source": [
        "a=\"ashish\"\n",
        "b='shi'\n",
        "c= [i for i in a]\n",
        "d= [i for i in b]\n",
        "print(c)\n",
        "print(d)\n",
        "\n",
        "for element in d:\n",
        "    if element in c:\n",
        "        c.remove(element)\n",
        "print(\"\".join(c))"
      ],
      "metadata": {
        "colab": {
          "base_uri": "https://localhost:8080/"
        },
        "id": "8wiCh_PBWgHZ",
        "outputId": "569aa78b-28bc-465c-f251-0a55099cffd5"
      },
      "execution_count": 61,
      "outputs": [
        {
          "output_type": "stream",
          "name": "stdout",
          "text": [
            "['a', 's', 'h', 'i', 's', 'h']\n",
            "['s', 'h', 'i']\n",
            "ash\n"
          ]
        }
      ]
    },
    {
      "cell_type": "code",
      "source": [
        "factorial(11)/(factorial(3)*factorial(3))"
      ],
      "metadata": {
        "colab": {
          "base_uri": "https://localhost:8080/"
        },
        "id": "66kBs7HVNhLL",
        "outputId": "d19d2650-2597-430e-c061-c2c71ce8cf5c"
      },
      "execution_count": 13,
      "outputs": [
        {
          "output_type": "execute_result",
          "data": {
            "text/plain": [
              "1108800.0"
            ]
          },
          "metadata": {},
          "execution_count": 13
        }
      ]
    },
    {
      "cell_type": "code",
      "source": [
        "fact(8)/fact(3)"
      ],
      "metadata": {
        "colab": {
          "base_uri": "https://localhost:8080/"
        },
        "id": "lH4XROilQecy",
        "outputId": "f320b668-8622-48ad-f74a-e59a3e20b07c"
      },
      "execution_count": 26,
      "outputs": [
        {
          "output_type": "execute_result",
          "data": {
            "text/plain": [
              "6720.0"
            ]
          },
          "metadata": {},
          "execution_count": 26
        }
      ]
    },
    {
      "cell_type": "code",
      "source": [
        "from itertools import permutations\n",
        "\n",
        "def print_anagrams(s):\n",
        "    # Generate all permutations of the string\n",
        "    perms = permutations(s)\n",
        "\n",
        "    # Convert permutations to a set to remove duplicates\n",
        "    unique_anagrams = set([''.join(p) for p in perms])\n",
        "    list1=[]\n",
        "    for anagram in unique_anagrams:\n",
        "        list1.append(anagram)\n",
        "\n",
        "    return len(list1)\n",
        "    # Print each unique anagram\n",
        "\n",
        "# Example usage\n",
        "word = \"BOOL\"\n",
        "#print(\"Anagrams of '{}':\".format(word))\n",
        "print_anagrams(word)\n"
      ],
      "metadata": {
        "colab": {
          "base_uri": "https://localhost:8080/"
        },
        "id": "pKPnnJoKlsMk",
        "outputId": "f5ff37c2-db59-45b1-b155-86d73ae34aac"
      },
      "execution_count": 127,
      "outputs": [
        {
          "output_type": "execute_result",
          "data": {
            "text/plain": [
              "12"
            ]
          },
          "metadata": {},
          "execution_count": 127
        }
      ]
    },
    {
      "cell_type": "code",
      "source": [
        "from math import comb\n",
        "from math import factorial as fact\n",
        "\n",
        "def combi(n, k):\n",
        "    if k > n:\n",
        "        return 0\n",
        "    return comb(n, k)"
      ],
      "metadata": {
        "id": "-BycdG2Wl1kJ"
      },
      "execution_count": 133,
      "outputs": []
    },
    {
      "cell_type": "code",
      "source": [
        "a=comb(8,4)\n",
        "a"
      ],
      "metadata": {
        "colab": {
          "base_uri": "https://localhost:8080/"
        },
        "id": "Z2Jt2oBRu9mt",
        "outputId": "3f27c5fe-6f44-4e16-a39c-e6757817d55b"
      },
      "execution_count": 172,
      "outputs": [
        {
          "output_type": "execute_result",
          "data": {
            "text/plain": [
              "70"
            ]
          },
          "metadata": {},
          "execution_count": 172
        }
      ]
    },
    {
      "cell_type": "code",
      "source": [
        "b= comb(18,4)\n",
        "b"
      ],
      "metadata": {
        "colab": {
          "base_uri": "https://localhost:8080/"
        },
        "id": "C-M94uqLxZX1",
        "outputId": "871941c2-cac3-4c57-8cf1-243b5bf65aad"
      },
      "execution_count": 173,
      "outputs": [
        {
          "output_type": "execute_result",
          "data": {
            "text/plain": [
              "3060"
            ]
          },
          "metadata": {},
          "execution_count": 173
        }
      ]
    },
    {
      "cell_type": "code",
      "source": [
        "c= comb(24,4)\n",
        "c"
      ],
      "metadata": {
        "colab": {
          "base_uri": "https://localhost:8080/"
        },
        "id": "NEphoxi9xZaT",
        "outputId": "5e4189cf-4e28-4c01-b2aa-1c4a8519412d"
      },
      "execution_count": 174,
      "outputs": [
        {
          "output_type": "execute_result",
          "data": {
            "text/plain": [
              "10626"
            ]
          },
          "metadata": {},
          "execution_count": 174
        }
      ]
    },
    {
      "cell_type": "code",
      "source": [
        "def tostring(list):\n",
        "    return ''.join(list)\n",
        "\n",
        "def per(a,b,c):\n",
        "  if b==c:\n",
        "    print(tostring(a))\n",
        "  else:\n",
        "    for  i in  range(b,c):\n",
        "      a[b],a[i]=a[i],a[b]\n",
        "      per(a,b+1,c)\n",
        "      a[b],a[i]=a[i],a[b]\n"
      ],
      "metadata": {
        "id": "vSTOFFyCDStw"
      },
      "execution_count": 191,
      "outputs": []
    },
    {
      "cell_type": "code",
      "source": [
        "tostring(a)"
      ],
      "metadata": {
        "colab": {
          "base_uri": "https://localhost:8080/",
          "height": 35
        },
        "id": "zYvX0MD_INR2",
        "outputId": "267b41a6-68c3-4a48-f335-c65a223c7608"
      },
      "execution_count": 190,
      "outputs": [
        {
          "output_type": "execute_result",
          "data": {
            "text/plain": [
              "'abc'"
            ],
            "application/vnd.google.colaboratory.intrinsic+json": {
              "type": "string"
            }
          },
          "metadata": {},
          "execution_count": 190
        }
      ]
    },
    {
      "cell_type": "code",
      "source": [
        "a=list(\"abc\")\n",
        "b=0\n",
        "c=3\n",
        "per(a,b,c)"
      ],
      "metadata": {
        "colab": {
          "base_uri": "https://localhost:8080/"
        },
        "id": "PH0XoXbhGVYo",
        "outputId": "59aab3a9-2e13-4bfc-dfa7-20d79268466f"
      },
      "execution_count": 189,
      "outputs": [
        {
          "output_type": "stream",
          "name": "stdout",
          "text": [
            "abc\n",
            "acb\n",
            "bac\n",
            "bca\n",
            "cba\n",
            "cab\n"
          ]
        }
      ]
    },
    {
      "cell_type": "markdown",
      "source": [
        "Input: s = \"cbaebabacd\", p = \"abc\"\n",
        "Output: [0,6]\n",
        "Explanation:\n",
        "The substring with start index = 0 is \"cba\", which is an anagram of \"abc\".\n",
        "The substring with start index = 6 is \"bac\", which is an anagram of \"abc\"."
      ],
      "metadata": {
        "id": "CIou6-lEQHP_"
      }
    },
    {
      "cell_type": "code",
      "source": [
        "s = \"cbaebabacd\"\n",
        "p = \"ab\"\n",
        "\n",
        "def _anagram(p, l=0, u=None):\n",
        "    if u is None:\n",
        "        u = len(p)\n",
        "\n",
        "    def to_string(p):\n",
        "        return \"\".join(p)\n",
        "\n",
        "    q = list(p)\n",
        "    if l == u:\n",
        "        print(to_string(q))\n",
        "    else:\n",
        "        for i in range(l, u):\n",
        "            q[l], q[i] = q[i], q[l]  # Swap\n",
        "            _anagram(q, l + 1, u)  # Recurse\n",
        "            q[l], q[i] = q[i], q[l]  # Swap back to original\n",
        "\n",
        "\n",
        "\n",
        "_anagram(p)\n"
      ],
      "metadata": {
        "colab": {
          "base_uri": "https://localhost:8080/"
        },
        "id": "Elw0bIv0GVSv",
        "outputId": "b4a7c71c-ef07-4adb-9423-2e3b264fa1a4"
      },
      "execution_count": 3,
      "outputs": [
        {
          "output_type": "stream",
          "name": "stdout",
          "text": [
            "ab\n",
            "ba\n"
          ]
        }
      ]
    },
    {
      "cell_type": "code",
      "source": [
        "from collections import Counter\n",
        "\n",
        "def find_anagrams(s, p):\n",
        "    result = []\n",
        "    p_len = len(p)\n",
        "    s_len = len(s)\n",
        "\n",
        "    if p_len > s_len:\n",
        "        return result\n",
        "\n",
        "    p_count = Counter(p)\n",
        "    window_count = Counter(s[:p_len - 1])\n",
        "\n",
        "    for i in range(p_len - 1, s_len):\n",
        "        window_count[s[i]] += 1\n",
        "\n",
        "        if window_count == p_count:\n",
        "            result.append(i - p_len + 1)\n",
        "\n",
        "        window_count[s[i - p_len + 1]] -= 1\n",
        "        if window_count[s[i - p_len + 1]] == 0:\n",
        "            del window_count[s[i - p_len + 1]]\n",
        "\n",
        "    return result\n",
        "\n",
        "# Example usage\n",
        "s = \"cbaebabacd\"\n",
        "p = \"abc\"\n",
        "print(f\"Start indices of '{p}' anagrams in '{s}': {find_anagrams(s, p)}\")\n"
      ],
      "metadata": {
        "colab": {
          "base_uri": "https://localhost:8080/"
        },
        "id": "7-XtPYDbGVH-",
        "outputId": "e18a5c97-6f00-4932-905b-ab7b95fac8b3"
      },
      "execution_count": 1,
      "outputs": [
        {
          "output_type": "stream",
          "name": "stdout",
          "text": [
            "Start indices of 'abc' anagrams in 'cbaebabacd': [0, 6]\n"
          ]
        }
      ]
    },
    {
      "cell_type": "code",
      "source": [
        "d= comb(32,4) #*(comb(4,4) +comb(4,1)*comb(4,3) +comb(4,2)*comb(4,2)+comb(4,3)*comb(4,1) )\n",
        "d"
      ],
      "metadata": {
        "colab": {
          "base_uri": "https://localhost:8080/"
        },
        "id": "9wusomjUxZdK",
        "outputId": "daf3037d-d193-4944-c599-ecffac83fa00"
      },
      "execution_count": 175,
      "outputs": [
        {
          "output_type": "execute_result",
          "data": {
            "text/plain": [
              "35960"
            ]
          },
          "metadata": {},
          "execution_count": 175
        }
      ]
    },
    {
      "cell_type": "code",
      "source": [
        "5+210+1365+4845"
      ],
      "metadata": {
        "colab": {
          "base_uri": "https://localhost:8080/"
        },
        "id": "oPlpA8H8xwXi",
        "outputId": "01e80fd7-1988-4869-cc68-91891e8a7472"
      },
      "execution_count": 144,
      "outputs": [
        {
          "output_type": "execute_result",
          "data": {
            "text/plain": [
              "6425"
            ]
          },
          "metadata": {},
          "execution_count": 144
        }
      ]
    },
    {
      "cell_type": "code",
      "source": [
        "7920-6425"
      ],
      "metadata": {
        "colab": {
          "base_uri": "https://localhost:8080/"
        },
        "id": "kJCUEnQIyUIY",
        "outputId": "0dbaaf7b-1d59-4eb5-87dc-ceda5c878b8e"
      },
      "execution_count": 167,
      "outputs": [
        {
          "output_type": "execute_result",
          "data": {
            "text/plain": [
              "1495"
            ]
          },
          "metadata": {},
          "execution_count": 167
        }
      ]
    },
    {
      "cell_type": "code",
      "source": [
        "1495*fact(4)"
      ],
      "metadata": {
        "colab": {
          "base_uri": "https://localhost:8080/"
        },
        "id": "vFCZJ_P_6J0R",
        "outputId": "ecef5fe9-3c97-4708-bbfe-d973f1accdc0"
      },
      "execution_count": 168,
      "outputs": [
        {
          "output_type": "execute_result",
          "data": {
            "text/plain": [
              "35880"
            ]
          },
          "metadata": {},
          "execution_count": 168
        }
      ]
    },
    {
      "cell_type": "code",
      "source": [
        "from math import gcd\n",
        "gcd(10)"
      ],
      "metadata": {
        "colab": {
          "base_uri": "https://localhost:8080/"
        },
        "id": "-HEm15PE6STH",
        "outputId": "32a30907-e66c-4482-ecbd-8abd02fd9f88"
      },
      "execution_count": 171,
      "outputs": [
        {
          "output_type": "execute_result",
          "data": {
            "text/plain": [
              "10"
            ]
          },
          "metadata": {},
          "execution_count": 171
        }
      ]
    }
  ]
}