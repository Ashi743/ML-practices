{
  "nbformat": 4,
  "nbformat_minor": 0,
  "metadata": {
    "colab": {
      "provenance": [],
      "authorship_tag": "ABX9TyNuXj0e6IDm+w1f3FokchWZ",
      "include_colab_link": true
    },
    "kernelspec": {
      "name": "python3",
      "display_name": "Python 3"
    },
    "language_info": {
      "name": "python"
    }
  },
  "cells": [
    {
      "cell_type": "markdown",
      "metadata": {
        "id": "view-in-github",
        "colab_type": "text"
      },
      "source": [
        "<a href=\"https://colab.research.google.com/github/Ashi743/ML-practices/blob/main/RANDOM_CODES.ipynb\" target=\"_parent\"><img src=\"https://colab.research.google.com/assets/colab-badge.svg\" alt=\"Open In Colab\"/></a>"
      ]
    },
    {
      "cell_type": "code",
      "source": [
        "vals= [\"i\", 'am', \"a\", \"hero\"]\n",
        "for idx,val in enumerate(vals, start=5):\n",
        "  print(idx,val)"
      ],
      "metadata": {
        "colab": {
          "base_uri": "https://localhost:8080/"
        },
        "id": "sy95DTwVKjMe",
        "outputId": "deff4b56-3faf-4a2c-a573-c997f1cf8751"
      },
      "execution_count": 3,
      "outputs": [
        {
          "output_type": "stream",
          "name": "stdout",
          "text": [
            "5 i\n",
            "6 am\n",
            "7 a\n",
            "8 hero\n"
          ]
        }
      ]
    },
    {
      "cell_type": "code",
      "source": [
        "amount= 100\n",
        "20 if amount>50 else 10"
      ],
      "metadata": {
        "colab": {
          "base_uri": "https://localhost:8080/"
        },
        "id": "QuhwfcQ8KjOf",
        "outputId": "0486795e-fa25-449f-a841-73da69d3e979"
      },
      "execution_count": 5,
      "outputs": [
        {
          "output_type": "execute_result",
          "data": {
            "text/plain": [
              "20"
            ]
          },
          "metadata": {},
          "execution_count": 5
        }
      ]
    },
    {
      "cell_type": "code",
      "source": [
        "print([i **2 for i in range(1,4)])\n",
        "\n",
        "squares= {}\n",
        "for i in range(1,4):\n",
        "  squares[i]= i**2\n",
        "print( \"giving dictionary\",squares)\n",
        "\n",
        "{i: i **2 for i  in range(1,4)}\n"
      ],
      "metadata": {
        "colab": {
          "base_uri": "https://localhost:8080/"
        },
        "id": "XIuukFOBKjQI",
        "outputId": "23112bd2-6dd9-4d6a-8542-2ad6b804da89"
      },
      "execution_count": 11,
      "outputs": [
        {
          "output_type": "stream",
          "name": "stdout",
          "text": [
            "[1, 4, 9]\n",
            "giving dictionary {1: 1, 2: 4, 3: 9}\n"
          ]
        },
        {
          "output_type": "execute_result",
          "data": {
            "text/plain": [
              "{1: 1, 2: 4, 3: 9}"
            ]
          },
          "metadata": {},
          "execution_count": 11
        }
      ]
    },
    {
      "cell_type": "code",
      "source": [
        "from itertools import product\n",
        "colors= [\"Red\", \"Green\", \"Blue\"]\n",
        "size= [\"2\",\"3\"]\n",
        "for i,j in product(colors, size):\n",
        "  print(j,i)"
      ],
      "metadata": {
        "colab": {
          "base_uri": "https://localhost:8080/"
        },
        "id": "f_1Kqd84KjRw",
        "outputId": "f5874947-39af-42eb-ff14-dd79fd44ef26"
      },
      "execution_count": 13,
      "outputs": [
        {
          "output_type": "stream",
          "name": "stdout",
          "text": [
            "2 Red\n",
            "3 Red\n",
            "2 Green\n",
            "3 Green\n",
            "2 Blue\n",
            "3 Blue\n"
          ]
        }
      ]
    },
    {
      "cell_type": "code",
      "source": [
        "vals= [1,2,3,4]\n",
        "for i in range(len(vals)-1):\n",
        "  print((vals[i-1], vals[i], vals[i+1]))\n",
        "\n",
        "from itertools import pairwise\n",
        "for pair in pairwise(vals):\n",
        "  print(pair)"
      ],
      "metadata": {
        "colab": {
          "base_uri": "https://localhost:8080/"
        },
        "id": "hc7t08yCKjWf",
        "outputId": "1a1b57d8-fbfe-4957-e9a0-6485471b9fdc"
      },
      "execution_count": 16,
      "outputs": [
        {
          "output_type": "stream",
          "name": "stdout",
          "text": [
            "(4, 1, 2)\n",
            "(1, 2, 3)\n",
            "(2, 3, 4)\n",
            "(1, 2)\n",
            "(2, 3)\n",
            "(3, 4)\n"
          ]
        }
      ]
    }
  ]
}